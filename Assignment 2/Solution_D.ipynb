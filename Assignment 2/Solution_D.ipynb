{
 "cells": [
  {
   "cell_type": "code",
   "execution_count": null,
   "metadata": {},
   "outputs": [],
   "source": [
    "%matplotlib inline\n",
    "import numpy as np\n",
    "import pandas as pd\n",
    "import matplotlib.pyplot as plt\n",
    "from sklearn.neighbors import KNeighborsClassifier\n",
    "from sklearn.model_selection import train_test_split\n",
    "from math import *\n",
    "from sklearn.svm import SVC\n",
    "from sklearn.metrics import accuracy_score, f1_score, confusion_matrix\n",
    "from mlxtend.feature_selection import SequentialFeatureSelector as SFS"
   ]
  },
  {
   "cell_type": "code",
   "execution_count": null,
   "metadata": {},
   "outputs": [],
   "source": [
    "data1 = pd.read_csv(\"Data/DLBCL.tsv\",delimiter=\"\\t\", low_memory=False)\n",
    "data1.drop(data1.index[[0,1]], inplace=True)\n",
    "data1.dropna(inplace=True)\n",
    "\n",
    "data2 = pd.read_csv(\"Data/leukemia.tsv\",delimiter=\"\\t\", low_memory=False)\n",
    "data2.drop(data2.index[[0,1]], inplace=True)\n",
    "data2.dropna(inplace=True)\n",
    "\n",
    "data3 = pd.read_csv(\"Data/lung.tsv\",delimiter=\"\\t\", low_memory=False)\n",
    "data3.drop(data3.index[[0,1]], inplace=True)\n",
    "data3.dropna(inplace=True)\n",
    "print(\"\")"
   ]
  },
  {
   "cell_type": "code",
   "execution_count": null,
   "metadata": {},
   "outputs": [],
   "source": [
    "X1, y1 = data1.iloc[:,:-1], data1.iloc[:,-1]\n",
    "X2, y2 = data2.iloc[:,1:], data2.iloc[:,0]\n",
    "X3, y3 = data3.iloc[:,1:], data3.iloc[:,0]"
   ]
  },
  {
   "cell_type": "code",
   "execution_count": null,
   "metadata": {},
   "outputs": [],
   "source": [
    "X1_train, X1_test, y1_train, y1_test = train_test_split(X1, y1, test_size=0.25)\n",
    "X2_train, X2_test, y2_train, y2_test = train_test_split(X2, y2, test_size=0.25)\n",
    "X3_train, X3_test, y3_train, y3_test = train_test_split(X3, y3, test_size=0.25)"
   ]
  },
  {
   "cell_type": "code",
   "execution_count": null,
   "metadata": {},
   "outputs": [],
   "source": [
    "n1_features = len(X1.columns)\n",
    "n2_features = len(X2.columns)\n",
    "n3_features = len(X3.columns)\n",
    "\n",
    "print(\"No. of features in DBCL data: {}\".format(n1_features))\n",
    "print(\"No. of features in Leukemia data: {}\".format(n2_features))\n",
    "print(\"No. of features in Lung data: {}\".format(n3_features))"
   ]
  },
  {
   "cell_type": "code",
   "execution_count": null,
   "metadata": {},
   "outputs": [],
   "source": [
    "n1_select = floor(0.2*n1_features)\n",
    "n2_select = floor(0.2*n2_features)\n",
    "n3_select = floor(0.2*n3_features)\n",
    "\n",
    "print(\"No. of features to be selected from DBCL data (N/3): {}\".format(n1_select))\n",
    "print(\"No. of features to be selected from Leukemia data (N/3): {}\".format(n2_select))\n",
    "print(\"No. of features to be selected from Lung data (N/3): {}\".format(n3_select))"
   ]
  },
  {
   "cell_type": "code",
   "execution_count": null,
   "metadata": {},
   "outputs": [],
   "source": [
    "def results_kNN(X_train, y_train, X_test, y_test):\n",
    "    Clf = KNeighborsClassifier(n_neighbors=3)\n",
    "    Clf.fit(X_train, y_train)\n",
    "    \n",
    "    y_pred = Clf.predict(X_test)\n",
    "    acc = accuracy_score(y_test.values, y_pred)\n",
    "    fscore = f1_score(y_test.values, y_pred, average='weighted')\n",
    "    cnf_matrix = confusion_matrix(y_test, y_pred)\n",
    "    \n",
    "    return acc, fscore, cnf_matrix\n",
    "\n",
    "def results_svm(X_train, y_train, X_test, y_test):\n",
    "    Clf = SVC(kernel='rbf')\n",
    "    Clf.fit(X_train, y_train)\n",
    "    \n",
    "    y_pred = Clf.predict(X_test)\n",
    "    acc = accuracy_score(y_test, y_pred)\n",
    "    fscore = f1_score(y_test, y_pred, average='weighted')\n",
    "    cnf_matrix = confusion_matrix(y_test, y_pred)\n",
    "    \n",
    "    return acc, fscore, cnf_matrix\n",
    "\n",
    "def sfs(X, y, clf, n_feature):\n",
    "    f_set = set()\n",
    "    \n",
    "    features = X.columns\n",
    "    k = 0\n",
    "    \n",
    "    while k < n_feature:\n",
    "        f_dict = {}\n",
    "        \n",
    "        for feature in features:\n",
    "            if feature not in f_set:\n",
    "                tmp = f_set.copy()\n",
    "                tmp.add(feature)\n",
    "\n",
    "                tmp_list = list(tmp)\n",
    "\n",
    "                X_tmp = X[tmp_list]\n",
    "\n",
    "                model = clf.fit(X_tmp, y)\n",
    "                y_pred = model.predict(X_tmp)\n",
    "\n",
    "                acc = accuracy_score(y, y_pred)\n",
    "\n",
    "                f_dict[feature] = acc\n",
    "        \n",
    "        next_f = max(f_dict, key=f_dict.get)\n",
    "        f_set.add(next_f)\n",
    "        k = k + 1\n",
    "        \n",
    "    Xf = X[list(f_set)]\n",
    "    \n",
    "    return Xf, list(f_set)\n",
    "\n",
    "def sbs(X, y, clf, n_feature):\n",
    "    features = X.columns\n",
    "    f_set = set(features)\n",
    "    k = len(features)\n",
    "    \n",
    "    while k > n_feature:\n",
    "        f_dict = {}\n",
    "        \n",
    "        for feature in features:\n",
    "            if feature in f_set:\n",
    "                tmp = f_set.copy()\n",
    "                tmp.remove(feature)\n",
    "                \n",
    "                tmp_list = list(tmp)\n",
    "                \n",
    "                X_tmp = X[tmp_list]\n",
    "                \n",
    "                model = clf.fit(X_tmp, y)\n",
    "                y_pred = model.predict(X_tmp)\n",
    "                \n",
    "                acc = accuracy_score(y, y_pred)\n",
    "                \n",
    "                f_dict[feature] = acc\n",
    "        \n",
    "        next_f = max(f_dict, key=f_dict.get)\n",
    "        f_set.remove(next_f)\n",
    "        k = k - 1\n",
    "        \n",
    "    Xf = X[list(f_set)]\n",
    "    \n",
    "    return Xf, list(f_set)    "
   ]
  },
  {
   "cell_type": "markdown",
   "metadata": {},
   "source": [
    "## DBCL Dataset"
   ]
  },
  {
   "cell_type": "markdown",
   "metadata": {},
   "source": [
    "### Sequential Forward Selection (SFS)"
   ]
  },
  {
   "cell_type": "code",
   "execution_count": null,
   "metadata": {
    "scrolled": true
   },
   "outputs": [],
   "source": [
    "clf1 = KNeighborsClassifier(n_neighbors=3)\n",
    "X1_train_sfs, fs1 = sfs(X1_train, y1_train, clf1, n1_select)\n",
    "X1_test_sfs = X1_test[fs1]"
   ]
  },
  {
   "cell_type": "code",
   "execution_count": null,
   "metadata": {},
   "outputs": [],
   "source": [
    "knn_results1 = results_kNN(X1_train_sfs, y1_train, X1_test_sfs, y1_test)\n",
    "\n",
    "print(\"kNN Results for DBCL data:\")\n",
    "print(\"Accuracy: {}\".format(knn_results1[0]))\n",
    "print(\"Weighted F1-Score: {}\".format(knn_results1[1]))\n",
    "print(\"Confusion Matrix:\")\n",
    "print(knn_results1[2])\n",
    "print(\"\\n\")\n"
   ]
  },
  {
   "cell_type": "code",
   "execution_count": null,
   "metadata": {},
   "outputs": [],
   "source": [
    "clf1 = SVC(kernel='rbf')\n",
    "X1_train_sfs, fs1 = sfs(X1_train, y1_train, clf1, n1_select)\n",
    "X1_test_sfs = X1_test[fs1]"
   ]
  },
  {
   "cell_type": "code",
   "execution_count": null,
   "metadata": {},
   "outputs": [],
   "source": [
    "svm_results1 = results_svm(X1_train_fs, y1_train, X1_test_fs, y1_test)\n",
    "\n",
    "print(\"SVM Results for DBCL data:\")\n",
    "print(\"Accuracy: {}\".format(svm_results1[0]))\n",
    "print(\"Weighted F1-Score: {}\".format(svm_results1[1]))\n",
    "print(\"Confusion Matrix:\")\n",
    "print(svm_results1[2])\n",
    "print(\"\\n\")"
   ]
  },
  {
   "cell_type": "code",
   "execution_count": null,
   "metadata": {},
   "outputs": [],
   "source": []
  },
  {
   "cell_type": "markdown",
   "metadata": {},
   "source": [
    "### Sequential Backward Selection (SBS)"
   ]
  },
  {
   "cell_type": "code",
   "execution_count": null,
   "metadata": {},
   "outputs": [],
   "source": [
    "clf1 = KNeighborsClassifier(n_neighbors=3)\n",
    "X1_train_sfs, fs1 = sbs(X1_train, y1_train, clf1, n1_select)\n",
    "X1_test_sfs = X1_test[fs1]"
   ]
  },
  {
   "cell_type": "code",
   "execution_count": null,
   "metadata": {},
   "outputs": [],
   "source": [
    "knn_results1 = results_kNN(X1_train_sfs, y1_train, X1_test_sfs, y1_test)\n",
    "\n",
    "print(\"kNN Results for DBCL data:\")\n",
    "print(\"Accuracy: {}\".format(knn_results1[0]))\n",
    "print(\"Weighted F1-Score: {}\".format(knn_results1[1]))\n",
    "print(\"Confusion Matrix:\")\n",
    "print(knn_results1[2])\n",
    "print(\"\\n\")\n"
   ]
  },
  {
   "cell_type": "code",
   "execution_count": null,
   "metadata": {},
   "outputs": [],
   "source": [
    "clf1 = SVC(kernel='rbf')\n",
    "X1_train_sfs, fs1 = sbs(X1_train, y1_train, clf1, n1_select)\n",
    "X1_test_sfs = X1_test[fs1]"
   ]
  },
  {
   "cell_type": "code",
   "execution_count": null,
   "metadata": {},
   "outputs": [],
   "source": [
    "svm_results1 = results_svm(X1_train_fs, y1_train, X1_test_fs, y1_test)\n",
    "\n",
    "print(\"SVM Results for DBCL data:\")\n",
    "print(\"Accuracy: {}\".format(svm_results1[0]))\n",
    "print(\"Weighted F1-Score: {}\".format(svm_results1[1]))\n",
    "print(\"Confusion Matrix:\")\n",
    "print(svm_results1[2])\n",
    "print(\"\\n\")"
   ]
  },
  {
   "cell_type": "code",
   "execution_count": null,
   "metadata": {},
   "outputs": [],
   "source": []
  },
  {
   "cell_type": "markdown",
   "metadata": {},
   "source": [
    "## Leukemia Dataset"
   ]
  },
  {
   "cell_type": "markdown",
   "metadata": {},
   "source": [
    "### Sequential Forward Selection (SFS)"
   ]
  },
  {
   "cell_type": "code",
   "execution_count": null,
   "metadata": {
    "scrolled": false
   },
   "outputs": [],
   "source": [
    "clf2 = KNeighborsClassifier(n_neighbors=3)\n",
    "X2_train_sfs, fs2 = sfs(X2_train, y2_train, clf2, n2_select)\n",
    "X2_test_sfs = X2_test[fs2]"
   ]
  },
  {
   "cell_type": "code",
   "execution_count": null,
   "metadata": {},
   "outputs": [],
   "source": [
    "knn_results1 = results_kNN(X2_train_sfs, y2_train, X2_test_sfs, y2_test)\n",
    "\n",
    "print(\"kNN Results for Leukemia data:\")\n",
    "print(\"Accuracy: {}\".format(knn_results1[0]))\n",
    "print(\"Weighted F1-Score: {}\".format(knn_results1[1]))\n",
    "print(\"Confusion Matrix:\")\n",
    "print(knn_results1[2])\n",
    "print(\"\\n\")\n"
   ]
  },
  {
   "cell_type": "code",
   "execution_count": null,
   "metadata": {},
   "outputs": [],
   "source": [
    "clf2 = SVC(kernel='rbf')\n",
    "X2_train_sfs, fs2 = sfs(X2_train, y2_train, clf2, n2_select)\n",
    "X2_test_sfs = X2_test[fs2]"
   ]
  },
  {
   "cell_type": "code",
   "execution_count": null,
   "metadata": {},
   "outputs": [],
   "source": [
    "svm_results1 = results_svm(X2_train_fs, y2_train, X2_test_fs, y2_test)\n",
    "\n",
    "print(\"SVM Results for Leukemia data:\")\n",
    "print(\"Accuracy: {}\".format(svm_results1[0]))\n",
    "print(\"Weighted F1-Score: {}\".format(svm_results1[1]))\n",
    "print(\"Confusion Matrix:\")\n",
    "print(svm_results1[2])\n",
    "print(\"\\n\")"
   ]
  },
  {
   "cell_type": "code",
   "execution_count": null,
   "metadata": {},
   "outputs": [],
   "source": []
  },
  {
   "cell_type": "markdown",
   "metadata": {},
   "source": [
    "### Sequential Backward Selection (SBS)"
   ]
  },
  {
   "cell_type": "code",
   "execution_count": null,
   "metadata": {},
   "outputs": [],
   "source": [
    "clf2 = KNeighborsClassifier(n_neighbors=3)\n",
    "X2_train_sfs, fs2 = sbs(X2_train, y2_train, clf2, n2_select)\n",
    "X2_test_sfs = X2_test[fs2]"
   ]
  },
  {
   "cell_type": "code",
   "execution_count": null,
   "metadata": {},
   "outputs": [],
   "source": [
    "knn_results1 = results_kNN(X2_train_sfs, y2_train, X2_test_sfs, y2_test)\n",
    "\n",
    "print(\"kNN Results for DBCL data:\")\n",
    "print(\"Accuracy: {}\".format(knn_results1[0]))\n",
    "print(\"Weighted F1-Score: {}\".format(knn_results1[1]))\n",
    "print(\"Confusion Matrix:\")\n",
    "print(knn_results1[2])\n",
    "print(\"\\n\")\n"
   ]
  },
  {
   "cell_type": "code",
   "execution_count": null,
   "metadata": {},
   "outputs": [],
   "source": [
    "clf2 = SVC(kernel='rbf')\n",
    "X2_train_sfs, fs2 = sbs(X2_train, y2_train, clf2, n2_select)\n",
    "X2_test_sfs = X2_test[fs2]"
   ]
  },
  {
   "cell_type": "code",
   "execution_count": null,
   "metadata": {},
   "outputs": [],
   "source": [
    "svm_results1 = results_svm(X2_train_fs, y2_train, X2_test_fs, y2_test)\n",
    "\n",
    "print(\"SVM Results for DBCL data:\")\n",
    "print(\"Accuracy: {}\".format(svm_results1[0]))\n",
    "print(\"Weighted F1-Score: {}\".format(svm_results1[1]))\n",
    "print(\"Confusion Matrix:\")\n",
    "print(svm_results1[2])\n",
    "print(\"\\n\")"
   ]
  },
  {
   "cell_type": "code",
   "execution_count": null,
   "metadata": {},
   "outputs": [],
   "source": []
  },
  {
   "cell_type": "markdown",
   "metadata": {},
   "source": [
    "## Lung Dataset"
   ]
  },
  {
   "cell_type": "markdown",
   "metadata": {},
   "source": [
    "### Sequential Forward Selection (SFS)"
   ]
  },
  {
   "cell_type": "code",
   "execution_count": null,
   "metadata": {
    "scrolled": true
   },
   "outputs": [],
   "source": [
    "clf3 = KNeighborsClassifier(n_neighbors=3)\n",
    "X3_train_sfs, fs3 = sfs(X3_train, y3_train, clf3, n3_select)\n",
    "X3_test_sfs = X3_test[fs3]"
   ]
  },
  {
   "cell_type": "code",
   "execution_count": null,
   "metadata": {},
   "outputs": [],
   "source": [
    "knn_results1 = results_kNN(X3_train_sfs, y3_train, X3_test_sfs, y3_test)\n",
    "\n",
    "print(\"kNN Results for DBCL data:\")\n",
    "print(\"Accuracy: {}\".format(knn_results1[0]))\n",
    "print(\"Weighted F1-Score: {}\".format(knn_results1[1]))\n",
    "print(\"Confusion Matrix:\")\n",
    "print(knn_results1[2])\n",
    "print(\"\\n\")\n"
   ]
  },
  {
   "cell_type": "code",
   "execution_count": null,
   "metadata": {},
   "outputs": [],
   "source": [
    "clf3 = SVC(kernel='rbf')\n",
    "X3_train_sfs, fs3 = sfs(X3_train, y3_train, clf3, n3_select)\n",
    "X3_test_sfs = X3_test[fs3]"
   ]
  },
  {
   "cell_type": "code",
   "execution_count": null,
   "metadata": {},
   "outputs": [],
   "source": [
    "svm_results1 = results_svm(X3_train_fs, y3_train, X3_test_fs, y3_test)\n",
    "\n",
    "print(\"SVM Results for DBCL data:\")\n",
    "print(\"Accuracy: {}\".format(svm_results1[0]))\n",
    "print(\"Weighted F1-Score: {}\".format(svm_results1[1]))\n",
    "print(\"Confusion Matrix:\")\n",
    "print(svm_results1[2])\n",
    "print(\"\\n\")"
   ]
  },
  {
   "cell_type": "code",
   "execution_count": null,
   "metadata": {},
   "outputs": [],
   "source": []
  },
  {
   "cell_type": "markdown",
   "metadata": {},
   "source": [
    "### Sequential Backward Selection (SBS)"
   ]
  },
  {
   "cell_type": "code",
   "execution_count": null,
   "metadata": {},
   "outputs": [],
   "source": [
    "clf3 = KNeighborsClassifier(n_neighbors=3)\n",
    "X3_train_sfs, fs3 = sbs(X3_train, y3_train, clf3, n3_select)\n",
    "X3_test_sfs = X3_test[fs3]"
   ]
  },
  {
   "cell_type": "code",
   "execution_count": null,
   "metadata": {},
   "outputs": [],
   "source": [
    "knn_results1 = results_kNN(X3_train_sfs, y3_train, X3_test_sfs, y3_test)\n",
    "\n",
    "print(\"kNN Results for DBCL data:\")\n",
    "print(\"Accuracy: {}\".format(knn_results1[0]))\n",
    "print(\"Weighted F1-Score: {}\".format(knn_results1[1]))\n",
    "print(\"Confusion Matrix:\")\n",
    "print(knn_results1[2])\n",
    "print(\"\\n\")\n"
   ]
  },
  {
   "cell_type": "code",
   "execution_count": null,
   "metadata": {},
   "outputs": [],
   "source": [
    "clf3 = SVC(kernel='rbf')\n",
    "X3_train_sfs, fs3 = sbs(X3_train, y3_train, clf3, n3_select)\n",
    "X3_test_sfs = X3_test[fs3]"
   ]
  },
  {
   "cell_type": "code",
   "execution_count": null,
   "metadata": {},
   "outputs": [],
   "source": [
    "svm_results1 = results_svm(X3_train_fs, y3_train, X3_test_fs, y3_test)\n",
    "\n",
    "print(\"SVM Results for DBCL data:\")\n",
    "print(\"Accuracy: {}\".format(svm_results1[0]))\n",
    "print(\"Weighted F1-Score: {}\".format(svm_results1[1]))\n",
    "print(\"Confusion Matrix:\")\n",
    "print(svm_results1[2])\n",
    "print(\"\\n\")"
   ]
  }
 ],
 "metadata": {
  "kernelspec": {
   "display_name": "Python 3",
   "language": "python",
   "name": "python3"
  },
  "language_info": {
   "codemirror_mode": {
    "name": "ipython",
    "version": 3
   },
   "file_extension": ".py",
   "mimetype": "text/x-python",
   "name": "python",
   "nbconvert_exporter": "python",
   "pygments_lexer": "ipython3",
   "version": "3.7.4"
  }
 },
 "nbformat": 4,
 "nbformat_minor": 2
}
