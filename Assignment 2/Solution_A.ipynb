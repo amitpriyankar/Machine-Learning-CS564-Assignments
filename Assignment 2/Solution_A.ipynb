{
 "cells": [
  {
   "cell_type": "code",
   "execution_count": 1,
   "metadata": {},
   "outputs": [],
   "source": [
    "%matplotlib inline\n",
    "import numpy as np\n",
    "import pandas as pd\n",
    "import matplotlib.pyplot as plt\n",
    "from sklearn.neighbors import KNeighborsClassifier\n",
    "import filters, mutual_info, ttest\n",
    "from sklearn.model_selection import train_test_split\n",
    "from math import *\n",
    "from sklearn.svm import SVC\n",
    "from sklearn.metrics import accuracy_score, f1_score, confusion_matrix"
   ]
  },
  {
   "cell_type": "code",
   "execution_count": 2,
   "metadata": {},
   "outputs": [
    {
     "name": "stdout",
     "output_type": "stream",
     "text": [
      "\n"
     ]
    }
   ],
   "source": [
    "data1 = pd.read_csv(\"Data/DLBCL.tsv\",delimiter=\"\\t\", low_memory=False)\n",
    "data1.drop(data1.index[[0,1]], inplace=True)\n",
    "data1.dropna(inplace=True)\n",
    "\n",
    "data2 = pd.read_csv(\"Data/leukemia.tsv\",delimiter=\"\\t\", low_memory=False)\n",
    "data2.drop(data2.index[[0,1]], inplace=True)\n",
    "data2.dropna(inplace=True)\n",
    "\n",
    "data3 = pd.read_csv(\"Data/lung.tsv\",delimiter=\"\\t\", low_memory=False)\n",
    "data3.drop(data3.index[[0,1]], inplace=True)\n",
    "data3.dropna(inplace=True)\n",
    "print(\"\")"
   ]
  },
  {
   "cell_type": "code",
   "execution_count": 3,
   "metadata": {},
   "outputs": [],
   "source": [
    "X1, y1 = data1.iloc[:,:-1], data1.iloc[:,-1]\n",
    "X2, y2 = data2.iloc[:,1:], data2.iloc[:,0]\n",
    "X3, y3 = data3.iloc[:,1:], data3.iloc[:,0]"
   ]
  },
  {
   "cell_type": "code",
   "execution_count": 4,
   "metadata": {},
   "outputs": [],
   "source": [
    "X1_train, X1_test, y1_train, y1_test = train_test_split(X1, y1, test_size=0.25)\n",
    "X2_train, X2_test, y2_train, y2_test = train_test_split(X2, y2, test_size=0.25)\n",
    "X3_train, X3_test, y3_train, y3_test = train_test_split(X3, y3, test_size=0.25)"
   ]
  },
  {
   "cell_type": "code",
   "execution_count": 5,
   "metadata": {},
   "outputs": [
    {
     "name": "stdout",
     "output_type": "stream",
     "text": [
      "No. of features in DBCL data: 7070\n",
      "No. of features in Leukemia data: 5147\n",
      "No. of features in Lung data: 12600\n"
     ]
    }
   ],
   "source": [
    "n1_features = len(X1.columns)\n",
    "n2_features = len(X2.columns)\n",
    "n3_features = len(X3.columns)\n",
    "\n",
    "print(\"No. of features in DBCL data: {}\".format(n1_features))\n",
    "print(\"No. of features in Leukemia data: {}\".format(n2_features))\n",
    "print(\"No. of features in Lung data: {}\".format(n3_features))"
   ]
  },
  {
   "cell_type": "code",
   "execution_count": 6,
   "metadata": {},
   "outputs": [
    {
     "name": "stdout",
     "output_type": "stream",
     "text": [
      "No. of features to be selected from DBCL data (20%): 1413\n",
      "No. of features to be selected from Leukemia data (20%): 1028\n",
      "No. of features to be selected from Lung data (20%): 2519\n"
     ]
    }
   ],
   "source": [
    "n1_select = floor(0.2*n1_features)-1\n",
    "n2_select = floor(0.2*n2_features)-1\n",
    "n3_select = floor(0.2*n3_features)-1\n",
    "\n",
    "print(\"No. of features to be selected from DBCL data (20%): {}\".format(n1_select))\n",
    "print(\"No. of features to be selected from Leukemia data (20%): {}\".format(n2_select))\n",
    "print(\"No. of features to be selected from Lung data (20%): {}\".format(n3_select))"
   ]
  },
  {
   "cell_type": "code",
   "execution_count": 7,
   "metadata": {},
   "outputs": [],
   "source": [
    "def topk_features_mi(X, y, n_features):\n",
    "    fi = mutual_info.mutual_info_classif(X, y)\n",
    "    f = X.columns\n",
    "    fs = [j for i,j in sorted(zip(fi,f), reverse=True)][:n_features]\n",
    "    fi = [i for i,j in sorted(zip(fi,f), reverse=True)][:n_features]\n",
    "    Xs = X[fs]\n",
    "    \n",
    "    return Xs, y, fs, fi\n",
    "\n",
    "def topk_features_f_calssif(X, y, n_features):\n",
    "    fi = filters.f_classif(X, y)\n",
    "    fi = fi[0]\n",
    "    f = X.columns\n",
    "    fs = [j for i,j in sorted(zip(fi,f), reverse=True)][:n_features]\n",
    "    fi = [i for i,j in sorted(zip(fi,f), reverse=True)][:n_features]\n",
    "    Xs = X[fs]\n",
    "    \n",
    "    return Xs, y, fs, fi \n",
    "\n",
    "def topk_features_t_test(X, y, n_features):\n",
    "    f,fi = ttest.get_features(X, y)\n",
    "#     fi = fi[0]\n",
    "#     print(f)\n",
    "#     f = X.columns\n",
    "    fs = [j for i,j in sorted(zip(fi,f), reverse=True)][:n_features]\n",
    "    fi = [i for i,j in sorted(zip(fi,f), reverse=True)][:n_features]\n",
    "    Xs = X[fs]\n",
    "    \n",
    "    return Xs, y, fs, fi \n",
    "\n",
    "def results_kNN(X_train, y_train, X_test, y_test):\n",
    "    Clf = KNeighborsClassifier(n_neighbors=3)\n",
    "    Clf.fit(X_train, y_train)\n",
    "    \n",
    "    y_pred = Clf.predict(X_test)\n",
    "    acc = accuracy_score(y_test.values, y_pred)\n",
    "    fscore = f1_score(y_test.values, y_pred, average='weighted')\n",
    "    cnf_matrix = confusion_matrix(y_test, y_pred)\n",
    "    \n",
    "    return acc, fscore, cnf_matrix\n",
    "\n",
    "def results_svm(X_train, y_train, X_test, y_test):\n",
    "    Clf = SVC(kernel='rbf')\n",
    "    Clf.fit(X_train, y_train)\n",
    "    \n",
    "    y_pred = Clf.predict(X_test)\n",
    "    acc = accuracy_score(y_test, y_pred)\n",
    "    fscore = f1_score(y_test, y_pred, average='weighted')\n",
    "    cnf_matrix = confusion_matrix(y_test, y_pred)\n",
    "    \n",
    "    return acc, fscore, cnf_matrix"
   ]
  },
  {
   "cell_type": "markdown",
   "metadata": {},
   "source": [
    "## Feature Selection Using Mutual Information"
   ]
  },
  {
   "cell_type": "code",
   "execution_count": 8,
   "metadata": {},
   "outputs": [],
   "source": [
    "X1_train_mi, y1_train_mi, fs1, fi1 = topk_features_mi(X1_train, y1_train, n1_select)\n",
    "X1_test_mi = X1_test[fs1]\n",
    "\n",
    "X2_train_mi, y2_train_mi, fs2, fi2 = topk_features_mi(X2_train, y2_train, n2_select)\n",
    "X2_test_mi = X2_test[fs2]\n",
    "\n",
    "X3_train_mi, y3_train_mi, fs3, fi3 = topk_features_mi(X3_train, y3_train, n3_select)\n",
    "X3_test_mi = X3_test[fs3]"
   ]
  },
  {
   "cell_type": "code",
   "execution_count": 9,
   "metadata": {},
   "outputs": [
    {
     "name": "stdout",
     "output_type": "stream",
     "text": [
      "kNN Results for DBCL data:\n",
      "Accuracy: 0.95\n",
      "Weighted F1-Score: 0.9480286738351253\n",
      "Confusion Matrix:\n",
      "[[15  0]\n",
      " [ 1  4]]\n",
      "\n",
      "\n",
      "SVM Results for DBCL data:\n",
      "Accuracy: 0.95\n",
      "Weighted F1-Score: 0.9480286738351253\n",
      "Confusion Matrix:\n",
      "[[15  0]\n",
      " [ 1  4]]\n",
      "\n",
      "\n"
     ]
    }
   ],
   "source": [
    "knn_results1 = results_kNN(X1_train_mi, y1_train_mi, X1_test_mi, y1_test)\n",
    "svm_results1 = results_svm(X1_train_mi, y1_train_mi, X1_test_mi, y1_test)\n",
    "\n",
    "print(\"kNN Results for DBCL data:\")\n",
    "print(\"Accuracy: {}\".format(knn_results1[0]))\n",
    "print(\"Weighted F1-Score: {}\".format(knn_results1[1]))\n",
    "print(\"Confusion Matrix:\")\n",
    "print(knn_results1[2])\n",
    "print(\"\\n\")\n",
    "\n",
    "print(\"SVM Results for DBCL data:\")\n",
    "print(\"Accuracy: {}\".format(svm_results1[0]))\n",
    "print(\"Weighted F1-Score: {}\".format(svm_results1[1]))\n",
    "print(\"Confusion Matrix:\")\n",
    "print(svm_results1[2])\n",
    "print(\"\\n\")"
   ]
  },
  {
   "cell_type": "code",
   "execution_count": 10,
   "metadata": {
    "scrolled": true
   },
   "outputs": [
    {
     "name": "stdout",
     "output_type": "stream",
     "text": [
      "kNN Results for Leukemia data:\n",
      "Accuracy: 0.9444444444444444\n",
      "Weighted F1-Score: 0.9430303030303031\n",
      "Confusion Matrix:\n",
      "[[12  0]\n",
      " [ 1  5]]\n",
      "\n",
      "\n",
      "SVM Results for Leukemia data:\n",
      "Accuracy: 0.9444444444444444\n",
      "Weighted F1-Score: 0.9430303030303031\n",
      "Confusion Matrix:\n",
      "[[12  0]\n",
      " [ 1  5]]\n",
      "\n",
      "\n"
     ]
    }
   ],
   "source": [
    "knn_results2 = results_kNN(X2_train_mi, y2_train_mi, X2_test_mi, y2_test)\n",
    "svm_results2 = results_svm(X2_train_mi, y2_train_mi, X2_test_mi, y2_test)\n",
    "\n",
    "print(\"kNN Results for Leukemia data:\")\n",
    "print(\"Accuracy: {}\".format(knn_results2[0]))\n",
    "print(\"Weighted F1-Score: {}\".format(knn_results2[1]))\n",
    "print(\"Confusion Matrix:\")\n",
    "print(knn_results2[2])\n",
    "print(\"\\n\")\n",
    "\n",
    "print(\"SVM Results for Leukemia data:\")\n",
    "print(\"Accuracy: {}\".format(svm_results2[0]))\n",
    "print(\"Weighted F1-Score: {}\".format(svm_results2[1]))\n",
    "print(\"Confusion Matrix:\")\n",
    "print(svm_results2[2])\n",
    "print(\"\\n\")"
   ]
  },
  {
   "cell_type": "code",
   "execution_count": 11,
   "metadata": {},
   "outputs": [
    {
     "name": "stdout",
     "output_type": "stream",
     "text": [
      "kNN Results for Lung data:\n",
      "Accuracy: 0.8627450980392157\n",
      "Weighted F1-Score: 0.836078431372549\n",
      "Confusion Matrix:\n",
      "[[34  0  1  0  1]\n",
      " [ 0  1  0  0  0]\n",
      " [ 1  0  4  0  0]\n",
      " [ 3  0  0  0  0]\n",
      " [ 1  0  0  0  5]]\n",
      "\n",
      "\n",
      "SVM Results for Lung data:\n",
      "Accuracy: 0.8235294117647058\n",
      "Weighted F1-Score: 0.7823281211218664\n",
      "Confusion Matrix:\n",
      "[[35  0  1  0  0]\n",
      " [ 0  1  0  0  0]\n",
      " [ 1  0  4  0  0]\n",
      " [ 3  0  0  0  0]\n",
      " [ 4  0  0  0  2]]\n",
      "\n",
      "\n"
     ]
    }
   ],
   "source": [
    "knn_results3 = results_kNN(X3_train_mi, y3_train_mi, X3_test_mi, y3_test)\n",
    "svm_results3 = results_svm(X3_train_mi, y3_train_mi, X3_test_mi, y3_test)\n",
    "\n",
    "print(\"kNN Results for Lung data:\")\n",
    "print(\"Accuracy: {}\".format(knn_results3[0]))\n",
    "print(\"Weighted F1-Score: {}\".format(knn_results3[1]))\n",
    "print(\"Confusion Matrix:\")\n",
    "print(knn_results3[2])\n",
    "print(\"\\n\")\n",
    "\n",
    "print(\"SVM Results for Lung data:\")\n",
    "print(\"Accuracy: {}\".format(svm_results3[0]))\n",
    "print(\"Weighted F1-Score: {}\".format(svm_results3[1]))\n",
    "print(\"Confusion Matrix:\")\n",
    "print(svm_results3[2])\n",
    "print(\"\\n\")"
   ]
  },
  {
   "cell_type": "markdown",
   "metadata": {},
   "source": [
    "## Feature Selection Using f_classif"
   ]
  },
  {
   "cell_type": "code",
   "execution_count": 12,
   "metadata": {},
   "outputs": [],
   "source": [
    "X1_train_f, y1_train_f, fs1, fi1 = topk_features_f_calssif(X1_train, y1_train, n1_select)\n",
    "X1_test_f = X1_test[fs1]\n",
    "\n",
    "X2_train_f, y2_train_f, fs2, fi2 = topk_features_f_calssif(X2_train, y2_train, n2_select)\n",
    "X2_test_f = X2_test[fs2]\n",
    "\n",
    "X3_train_f, y3_train_f, fs3, fi3 = topk_features_f_calssif(X3_train, y3_train, n3_select)\n",
    "X3_test_f = X3_test[fs3]"
   ]
  },
  {
   "cell_type": "code",
   "execution_count": 13,
   "metadata": {},
   "outputs": [
    {
     "name": "stdout",
     "output_type": "stream",
     "text": [
      "kNN Results for DBCL data:\n",
      "Accuracy: 1.0\n",
      "Weighted F1-Score: 1.0\n",
      "Confusion Matrix:\n",
      "[[15  0]\n",
      " [ 0  5]]\n",
      "\n",
      "\n",
      "SVM Results for DBCL data:\n",
      "Accuracy: 0.9\n",
      "Weighted F1-Score: 0.890625\n",
      "Confusion Matrix:\n",
      "[[15  0]\n",
      " [ 2  3]]\n",
      "\n",
      "\n"
     ]
    }
   ],
   "source": [
    "knn_results1 = results_kNN(X1_train_f, y1_train_f, X1_test_f, y1_test)\n",
    "svm_results1 = results_svm(X1_train_f, y1_train_f, X1_test_f, y1_test)\n",
    "\n",
    "print(\"kNN Results for DBCL data:\")\n",
    "print(\"Accuracy: {}\".format(knn_results1[0]))\n",
    "print(\"Weighted F1-Score: {}\".format(knn_results1[1]))\n",
    "print(\"Confusion Matrix:\")\n",
    "print(knn_results1[2])\n",
    "print(\"\\n\")\n",
    "\n",
    "print(\"SVM Results for DBCL data:\")\n",
    "print(\"Accuracy: {}\".format(svm_results1[0]))\n",
    "print(\"Weighted F1-Score: {}\".format(svm_results1[1]))\n",
    "print(\"Confusion Matrix:\")\n",
    "print(svm_results1[2])\n",
    "print(\"\\n\")"
   ]
  },
  {
   "cell_type": "code",
   "execution_count": 14,
   "metadata": {},
   "outputs": [
    {
     "name": "stdout",
     "output_type": "stream",
     "text": [
      "kNN Results for Leukemia data:\n",
      "Accuracy: 0.9444444444444444\n",
      "Weighted F1-Score: 0.9430303030303031\n",
      "Confusion Matrix:\n",
      "[[12  0]\n",
      " [ 1  5]]\n",
      "\n",
      "\n",
      "SVM Results for Leukemia data:\n",
      "Accuracy: 0.9444444444444444\n",
      "Weighted F1-Score: 0.9430303030303031\n",
      "Confusion Matrix:\n",
      "[[12  0]\n",
      " [ 1  5]]\n",
      "\n",
      "\n"
     ]
    }
   ],
   "source": [
    "knn_results2 = results_kNN(X2_train_f, y2_train_f, X2_test_f, y2_test)\n",
    "svm_results2 = results_svm(X2_train_f, y2_train_f, X2_test_f, y2_test)\n",
    "\n",
    "print(\"kNN Results for Leukemia data:\")\n",
    "print(\"Accuracy: {}\".format(knn_results2[0]))\n",
    "print(\"Weighted F1-Score: {}\".format(knn_results2[1]))\n",
    "print(\"Confusion Matrix:\")\n",
    "print(knn_results2[2])\n",
    "print(\"\\n\")\n",
    "\n",
    "print(\"SVM Results for Leukemia data:\")\n",
    "print(\"Accuracy: {}\".format(svm_results2[0]))\n",
    "print(\"Weighted F1-Score: {}\".format(svm_results2[1]))\n",
    "print(\"Confusion Matrix:\")\n",
    "print(svm_results2[2])\n",
    "print(\"\\n\")"
   ]
  },
  {
   "cell_type": "code",
   "execution_count": 15,
   "metadata": {
    "scrolled": false
   },
   "outputs": [
    {
     "name": "stdout",
     "output_type": "stream",
     "text": [
      "kNN Results for Lung data:\n",
      "Accuracy: 0.8235294117647058\n",
      "Weighted F1-Score: 0.7843986079280196\n",
      "Confusion Matrix:\n",
      "[[34  0  1  0  1]\n",
      " [ 0  1  0  0  0]\n",
      " [ 0  0  5  0  0]\n",
      " [ 3  0  0  0  0]\n",
      " [ 4  0  0  0  2]]\n",
      "\n",
      "\n",
      "SVM Results for Lung data:\n",
      "Accuracy: 0.8627450980392157\n",
      "Weighted F1-Score: 0.8338680926916222\n",
      "Confusion Matrix:\n",
      "[[35  0  1  0  0]\n",
      " [ 0  1  0  0  0]\n",
      " [ 1  0  4  0  0]\n",
      " [ 3  0  0  0  0]\n",
      " [ 2  0  0  0  4]]\n",
      "\n",
      "\n"
     ]
    }
   ],
   "source": [
    "knn_results3 = results_kNN(X3_train_f, y3_train_f, X3_test_f, y3_test)\n",
    "svm_results3 = results_svm(X3_train_f, y3_train_f, X3_test_f, y3_test)\n",
    "\n",
    "print(\"kNN Results for Lung data:\")\n",
    "print(\"Accuracy: {}\".format(knn_results3[0]))\n",
    "print(\"Weighted F1-Score: {}\".format(knn_results3[1]))\n",
    "print(\"Confusion Matrix:\")\n",
    "print(knn_results3[2])\n",
    "print(\"\\n\")\n",
    "\n",
    "print(\"SVM Results for Lung data:\")\n",
    "print(\"Accuracy: {}\".format(svm_results3[0]))\n",
    "print(\"Weighted F1-Score: {}\".format(svm_results3[1]))\n",
    "print(\"Confusion Matrix:\")\n",
    "print(svm_results3[2])\n",
    "print(\"\\n\")"
   ]
  },
  {
   "cell_type": "markdown",
   "metadata": {},
   "source": [
    "## Feature Selection Using t-test"
   ]
  },
  {
   "cell_type": "code",
   "execution_count": 16,
   "metadata": {},
   "outputs": [
    {
     "name": "stderr",
     "output_type": "stream",
     "text": [
      "/home/aquarius31/EndSem Notes/ML - Assignments/Assignments/Assignment 2/ttest.py:39: SettingWithCopyWarning: \n",
      "A value is trying to be set on a copy of a slice from a DataFrame.\n",
      "Try using .loc[row_indexer,col_indexer] = value instead\n",
      "\n",
      "See the caveats in the documentation: http://pandas.pydata.org/pandas-docs/stable/user_guide/indexing.html#returning-a-view-versus-a-copy\n",
      "  df[\"class\"] = pd.DataFrame(y)\n"
     ]
    }
   ],
   "source": [
    "X1_train_t, y1_train_t, fs1, fi1 = topk_features_t_test(X1_train, y1_train, n1_select)\n",
    "X1_test_t = X1_test[fs1]\n",
    "\n",
    "X2_train_t, y2_train_t, fs2, fi2 = topk_features_t_test(X2_train, y2_train, n2_select)\n",
    "X2_test_t = X2_test[fs2]\n",
    "\n",
    "X3_train_t, y3_train_t, fs3, fi3 = topk_features_t_test(X3_train, y3_train, n3_select)\n",
    "X3_test_t = X3_test[fs3]"
   ]
  },
  {
   "cell_type": "code",
   "execution_count": 17,
   "metadata": {},
   "outputs": [
    {
     "name": "stdout",
     "output_type": "stream",
     "text": [
      "kNN Results for DBCL data:\n",
      "Accuracy: 1.0\n",
      "Weighted F1-Score: 1.0\n",
      "Confusion Matrix:\n",
      "[[15  0]\n",
      " [ 0  5]]\n",
      "\n",
      "\n",
      "SVM Results for DBCL data:\n",
      "Accuracy: 0.9\n",
      "Weighted F1-Score: 0.890625\n",
      "Confusion Matrix:\n",
      "[[15  0]\n",
      " [ 2  3]]\n",
      "\n",
      "\n"
     ]
    }
   ],
   "source": [
    "knn_results1 = results_kNN(X1_train_t, y1_train_t, X1_test_t, y1_test)\n",
    "svm_results1 = results_svm(X1_train_t, y1_train_t, X1_test_t, y1_test)\n",
    "\n",
    "print(\"kNN Results for DBCL data:\")\n",
    "print(\"Accuracy: {}\".format(knn_results1[0]))\n",
    "print(\"Weighted F1-Score: {}\".format(knn_results1[1]))\n",
    "print(\"Confusion Matrix:\")\n",
    "print(knn_results1[2])\n",
    "print(\"\\n\")\n",
    "\n",
    "print(\"SVM Results for DBCL data:\")\n",
    "print(\"Accuracy: {}\".format(svm_results1[0]))\n",
    "print(\"Weighted F1-Score: {}\".format(svm_results1[1]))\n",
    "print(\"Confusion Matrix:\")\n",
    "print(svm_results1[2])\n",
    "print(\"\\n\")"
   ]
  },
  {
   "cell_type": "code",
   "execution_count": 18,
   "metadata": {},
   "outputs": [
    {
     "name": "stdout",
     "output_type": "stream",
     "text": [
      "kNN Results for Leukemia data:\n",
      "Accuracy: 0.9444444444444444\n",
      "Weighted F1-Score: 0.9430303030303031\n",
      "Confusion Matrix:\n",
      "[[12  0]\n",
      " [ 1  5]]\n",
      "\n",
      "\n",
      "SVM Results for Leukemia data:\n",
      "Accuracy: 0.9444444444444444\n",
      "Weighted F1-Score: 0.9430303030303031\n",
      "Confusion Matrix:\n",
      "[[12  0]\n",
      " [ 1  5]]\n",
      "\n",
      "\n"
     ]
    }
   ],
   "source": [
    "knn_results2 = results_kNN(X2_train_t, y2_train_t, X2_test_t, y2_test)\n",
    "svm_results2 = results_svm(X2_train_t, y2_train_t, X2_test_t, y2_test)\n",
    "\n",
    "print(\"kNN Results for Leukemia data:\")\n",
    "print(\"Accuracy: {}\".format(knn_results2[0]))\n",
    "print(\"Weighted F1-Score: {}\".format(knn_results2[1]))\n",
    "print(\"Confusion Matrix:\")\n",
    "print(knn_results2[2])\n",
    "print(\"\\n\")\n",
    "\n",
    "print(\"SVM Results for Leukemia data:\")\n",
    "print(\"Accuracy: {}\".format(svm_results2[0]))\n",
    "print(\"Weighted F1-Score: {}\".format(svm_results2[1]))\n",
    "print(\"Confusion Matrix:\")\n",
    "print(svm_results2[2])\n",
    "print(\"\\n\")"
   ]
  },
  {
   "cell_type": "code",
   "execution_count": 19,
   "metadata": {},
   "outputs": [
    {
     "name": "stdout",
     "output_type": "stream",
     "text": [
      "kNN Results for Lung data:\n",
      "Accuracy: 0.8431372549019608\n",
      "Weighted F1-Score: 0.8181077004606415\n",
      "Confusion Matrix:\n",
      "[[33  0  1  0  2]\n",
      " [ 0  1  0  0  0]\n",
      " [ 1  0  4  0  0]\n",
      " [ 3  0  0  0  0]\n",
      " [ 1  0  0  0  5]]\n",
      "\n",
      "\n",
      "SVM Results for Lung data:\n",
      "Accuracy: 0.803921568627451\n",
      "Weighted F1-Score: 0.7492997198879552\n",
      "Confusion Matrix:\n",
      "[[35  0  1  0  0]\n",
      " [ 0  1  0  0  0]\n",
      " [ 1  0  4  0  0]\n",
      " [ 3  0  0  0  0]\n",
      " [ 5  0  0  0  1]]\n",
      "\n",
      "\n"
     ]
    }
   ],
   "source": [
    "knn_results3 = results_kNN(X3_train_t, y3_train_t, X3_test_t, y3_test)\n",
    "svm_results3 = results_svm(X3_train_t, y3_train_t, X3_test_t, y3_test)\n",
    "\n",
    "print(\"kNN Results for Lung data:\")\n",
    "print(\"Accuracy: {}\".format(knn_results3[0]))\n",
    "print(\"Weighted F1-Score: {}\".format(knn_results3[1]))\n",
    "print(\"Confusion Matrix:\")\n",
    "print(knn_results3[2])\n",
    "print(\"\\n\")\n",
    "\n",
    "print(\"SVM Results for Lung data:\")\n",
    "print(\"Accuracy: {}\".format(svm_results3[0]))\n",
    "print(\"Weighted F1-Score: {}\".format(svm_results3[1]))\n",
    "print(\"Confusion Matrix:\")\n",
    "print(svm_results3[2])\n",
    "print(\"\\n\")"
   ]
  },
  {
   "cell_type": "code",
   "execution_count": null,
   "metadata": {},
   "outputs": [],
   "source": []
  }
 ],
 "metadata": {
  "kernelspec": {
   "display_name": "Python 3",
   "language": "python",
   "name": "python3"
  },
  "language_info": {
   "codemirror_mode": {
    "name": "ipython",
    "version": 3
   },
   "file_extension": ".py",
   "mimetype": "text/x-python",
   "name": "python",
   "nbconvert_exporter": "python",
   "pygments_lexer": "ipython3",
   "version": "3.7.4"
  }
 },
 "nbformat": 4,
 "nbformat_minor": 2
}
