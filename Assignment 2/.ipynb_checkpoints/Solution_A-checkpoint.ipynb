{
 "cells": [
  {
   "cell_type": "code",
   "execution_count": 1,
   "metadata": {},
   "outputs": [],
   "source": [
    "%matplotlib inline\n",
    "import numpy as np\n",
    "import pandas as pd\n",
    "import matplotlib.pyplot as plt\n",
    "from sklearn.neighbors import KNeighborsClassifier\n",
    "import filters, mutual_info, ttest\n",
    "from sklearn.model_selection import train_test_split\n",
    "from math import *\n",
    "from sklearn.svm import SVC\n",
    "from sklearn.metrics import accuracy_score, f1_score, confusion_matrix"
   ]
  },
  {
   "cell_type": "code",
   "execution_count": 2,
   "metadata": {},
   "outputs": [
    {
     "name": "stdout",
     "output_type": "stream",
     "text": [
      "\n"
     ]
    }
   ],
   "source": [
    "data1 = pd.read_csv(\"Data/DLBCL.tsv\",delimiter=\"\\t\", low_memory=False)\n",
    "data1.drop(data1.index[[0,1]], inplace=True)\n",
    "data1.dropna(inplace=True)\n",
    "\n",
    "data2 = pd.read_csv(\"Data/leukemia.tsv\",delimiter=\"\\t\", low_memory=False)\n",
    "data2.drop(data2.index[[0,1]], inplace=True)\n",
    "data2.dropna(inplace=True)\n",
    "\n",
    "data3 = pd.read_csv(\"Data/lung.tsv\",delimiter=\"\\t\", low_memory=False)\n",
    "data3.drop(data3.index[[0,1]], inplace=True)\n",
    "data3.dropna(inplace=True)\n",
    "print(\"\")"
   ]
  },
  {
   "cell_type": "code",
   "execution_count": 3,
   "metadata": {},
   "outputs": [],
   "source": [
    "X1, y1 = data1.iloc[:,:-1], data1.iloc[:,-1]\n",
    "X2, y2 = data2.iloc[:,1:], data2.iloc[:,0]\n",
    "X3, y3 = data3.iloc[:,1:], data3.iloc[:,0]"
   ]
  },
  {
   "cell_type": "code",
   "execution_count": 4,
   "metadata": {},
   "outputs": [],
   "source": [
    "X1_train, X1_test, y1_train, y1_test = train_test_split(X1, y1, test_size=0.25)\n",
    "X2_train, X2_test, y2_train, y2_test = train_test_split(X2, y2, test_size=0.25)\n",
    "X3_train, X3_test, y3_train, y3_test = train_test_split(X3, y3, test_size=0.25)"
   ]
  },
  {
   "cell_type": "code",
   "execution_count": 5,
   "metadata": {},
   "outputs": [
    {
     "name": "stdout",
     "output_type": "stream",
     "text": [
      "No. of features in DBCL data: 7070\n",
      "No. of features in Leukemia data: 5147\n",
      "No. of features in Lung data: 12600\n"
     ]
    }
   ],
   "source": [
    "n1_features = len(X1.columns)\n",
    "n2_features = len(X2.columns)\n",
    "n3_features = len(X3.columns)\n",
    "\n",
    "print(\"No. of features in DBCL data: {}\".format(n1_features))\n",
    "print(\"No. of features in Leukemia data: {}\".format(n2_features))\n",
    "print(\"No. of features in Lung data: {}\".format(n3_features))"
   ]
  },
  {
   "cell_type": "code",
   "execution_count": 6,
   "metadata": {},
   "outputs": [
    {
     "name": "stdout",
     "output_type": "stream",
     "text": [
      "No. of features to be selected from DBCL data (20%): 1413\n",
      "No. of features to be selected from Leukemia data (20%): 1028\n",
      "No. of features to be selected from Lung data (20%): 2519\n"
     ]
    }
   ],
   "source": [
    "n1_select = floor(0.2*n1_features)-1\n",
    "n2_select = floor(0.2*n2_features)-1\n",
    "n3_select = floor(0.2*n3_features)-1\n",
    "\n",
    "print(\"No. of features to be selected from DBCL data (20%): {}\".format(n1_select))\n",
    "print(\"No. of features to be selected from Leukemia data (20%): {}\".format(n2_select))\n",
    "print(\"No. of features to be selected from Lung data (20%): {}\".format(n3_select))"
   ]
  },
  {
   "cell_type": "code",
   "execution_count": 7,
   "metadata": {},
   "outputs": [],
   "source": [
    "def topk_features_mi(X, y, n_features):\n",
    "    fi = mutual_info.mutual_info_classif(X, y)\n",
    "    f = X.columns\n",
    "    fs = [j for i,j in sorted(zip(fi,f), reverse=True)][:n_features]\n",
    "    fi = [i for i,j in sorted(zip(fi,f), reverse=True)][:n_features]\n",
    "    Xs = X[fs]\n",
    "    \n",
    "    return Xs, y, fs, fi\n",
    "\n",
    "def topk_features_f_calssif(X, y, n_features):\n",
    "    fi = filters.f_classif(X, y)\n",
    "    fi = fi[0]\n",
    "    f = X.columns\n",
    "    fs = [j for i,j in sorted(zip(fi,f), reverse=True)][:n_features]\n",
    "    fi = [i for i,j in sorted(zip(fi,f), reverse=True)][:n_features]\n",
    "    Xs = X[fs]\n",
    "    \n",
    "    return Xs, y, fs, fi \n",
    "\n",
    "def topk_features_t_test(X, y, n_features):\n",
    "    f,fi = ttest.get_features(X, y)\n",
    "#     fi = fi[0]\n",
    "#     print(f)\n",
    "#     f = X.columns\n",
    "    fs = [j for i,j in sorted(zip(fi,f), reverse=True)][:n_features]\n",
    "    fi = [i for i,j in sorted(zip(fi,f), reverse=True)][:n_features]\n",
    "    Xs = X[fs]\n",
    "    \n",
    "    return Xs, y, fs, fi \n",
    "\n",
    "def results_kNN(X_train, y_train, X_test, y_test):\n",
    "    Clf = KNeighborsClassifier(n_neighbors=3)\n",
    "    Clf.fit(X_train, y_train)\n",
    "    \n",
    "    y_pred = Clf.predict(X_test)\n",
    "    acc = accuracy_score(y_test.values, y_pred)\n",
    "    fscore = f1_score(y_test.values, y_pred, average='weighted')\n",
    "    cnf_matrix = confusion_matrix(y_test, y_pred)\n",
    "    \n",
    "    return acc, fscore, cnf_matrix\n",
    "\n",
    "def results_svm(X_train, y_train, X_test, y_test):\n",
    "    Clf = SVC(kernel='rbf')\n",
    "    Clf.fit(X_train, y_train)\n",
    "    \n",
    "    y_pred = Clf.predict(X_test)\n",
    "    acc = accuracy_score(y_test, y_pred)\n",
    "    fscore = f1_score(y_test, y_pred, average='weighted')\n",
    "    cnf_matrix = confusion_matrix(y_test, y_pred)\n",
    "    \n",
    "    return acc, fscore, cnf_matrix"
   ]
  },
  {
   "cell_type": "markdown",
   "metadata": {},
   "source": [
    "## Feature Selection Using Mutual Information"
   ]
  },
  {
   "cell_type": "code",
   "execution_count": 8,
   "metadata": {},
   "outputs": [
    {
     "ename": "KeyboardInterrupt",
     "evalue": "",
     "output_type": "error",
     "traceback": [
      "\u001b[0;31m---------------------------------------------------------------------------\u001b[0m",
      "\u001b[0;31mKeyboardInterrupt\u001b[0m                         Traceback (most recent call last)",
      "\u001b[0;32m<ipython-input-8-4369ab8a1696>\u001b[0m in \u001b[0;36m<module>\u001b[0;34m\u001b[0m\n\u001b[0;32m----> 1\u001b[0;31m \u001b[0mX1_train\u001b[0m\u001b[0;34m,\u001b[0m \u001b[0my1_train\u001b[0m\u001b[0;34m,\u001b[0m \u001b[0mfs1\u001b[0m\u001b[0;34m,\u001b[0m \u001b[0mfi1\u001b[0m \u001b[0;34m=\u001b[0m \u001b[0mtopk_features_mi\u001b[0m\u001b[0;34m(\u001b[0m\u001b[0mX1_train\u001b[0m\u001b[0;34m,\u001b[0m \u001b[0my1_train\u001b[0m\u001b[0;34m,\u001b[0m \u001b[0mn1_select\u001b[0m\u001b[0;34m)\u001b[0m\u001b[0;34m\u001b[0m\u001b[0;34m\u001b[0m\u001b[0m\n\u001b[0m\u001b[1;32m      2\u001b[0m \u001b[0mX1_test\u001b[0m \u001b[0;34m=\u001b[0m \u001b[0mX1_test\u001b[0m\u001b[0;34m[\u001b[0m\u001b[0mfs1\u001b[0m\u001b[0;34m]\u001b[0m\u001b[0;34m\u001b[0m\u001b[0;34m\u001b[0m\u001b[0m\n\u001b[1;32m      3\u001b[0m \u001b[0;34m\u001b[0m\u001b[0m\n\u001b[1;32m      4\u001b[0m \u001b[0mX2_train\u001b[0m\u001b[0;34m,\u001b[0m \u001b[0my2_train\u001b[0m\u001b[0;34m,\u001b[0m \u001b[0mfs2\u001b[0m\u001b[0;34m,\u001b[0m \u001b[0mfi2\u001b[0m \u001b[0;34m=\u001b[0m \u001b[0mtopk_features_mi\u001b[0m\u001b[0;34m(\u001b[0m\u001b[0mX2_train\u001b[0m\u001b[0;34m,\u001b[0m \u001b[0my2_train\u001b[0m\u001b[0;34m,\u001b[0m \u001b[0mn2_select\u001b[0m\u001b[0;34m)\u001b[0m\u001b[0;34m\u001b[0m\u001b[0;34m\u001b[0m\u001b[0m\n\u001b[1;32m      5\u001b[0m \u001b[0mX2_test\u001b[0m \u001b[0;34m=\u001b[0m \u001b[0mX2_test\u001b[0m\u001b[0;34m[\u001b[0m\u001b[0mfs2\u001b[0m\u001b[0;34m]\u001b[0m\u001b[0;34m\u001b[0m\u001b[0;34m\u001b[0m\u001b[0m\n",
      "\u001b[0;32m<ipython-input-7-6a292d481970>\u001b[0m in \u001b[0;36mtopk_features_mi\u001b[0;34m(X, y, n_features)\u001b[0m\n\u001b[1;32m      1\u001b[0m \u001b[0;32mdef\u001b[0m \u001b[0mtopk_features_mi\u001b[0m\u001b[0;34m(\u001b[0m\u001b[0mX\u001b[0m\u001b[0;34m,\u001b[0m \u001b[0my\u001b[0m\u001b[0;34m,\u001b[0m \u001b[0mn_features\u001b[0m\u001b[0;34m)\u001b[0m\u001b[0;34m:\u001b[0m\u001b[0;34m\u001b[0m\u001b[0;34m\u001b[0m\u001b[0m\n\u001b[0;32m----> 2\u001b[0;31m     \u001b[0mfi\u001b[0m \u001b[0;34m=\u001b[0m \u001b[0mmutual_info\u001b[0m\u001b[0;34m.\u001b[0m\u001b[0mmutual_info_classif\u001b[0m\u001b[0;34m(\u001b[0m\u001b[0mX\u001b[0m\u001b[0;34m,\u001b[0m \u001b[0my\u001b[0m\u001b[0;34m)\u001b[0m\u001b[0;34m\u001b[0m\u001b[0;34m\u001b[0m\u001b[0m\n\u001b[0m\u001b[1;32m      3\u001b[0m     \u001b[0mf\u001b[0m \u001b[0;34m=\u001b[0m \u001b[0mX\u001b[0m\u001b[0;34m.\u001b[0m\u001b[0mcolumns\u001b[0m\u001b[0;34m\u001b[0m\u001b[0;34m\u001b[0m\u001b[0m\n\u001b[1;32m      4\u001b[0m     \u001b[0mfs\u001b[0m \u001b[0;34m=\u001b[0m \u001b[0;34m[\u001b[0m\u001b[0mj\u001b[0m \u001b[0;32mfor\u001b[0m \u001b[0mi\u001b[0m\u001b[0;34m,\u001b[0m\u001b[0mj\u001b[0m \u001b[0;32min\u001b[0m \u001b[0msorted\u001b[0m\u001b[0;34m(\u001b[0m\u001b[0mzip\u001b[0m\u001b[0;34m(\u001b[0m\u001b[0mfi\u001b[0m\u001b[0;34m,\u001b[0m\u001b[0mf\u001b[0m\u001b[0;34m)\u001b[0m\u001b[0;34m,\u001b[0m \u001b[0mreverse\u001b[0m\u001b[0;34m=\u001b[0m\u001b[0;32mTrue\u001b[0m\u001b[0;34m)\u001b[0m\u001b[0;34m]\u001b[0m\u001b[0;34m[\u001b[0m\u001b[0;34m:\u001b[0m\u001b[0mn_features\u001b[0m\u001b[0;34m]\u001b[0m\u001b[0;34m\u001b[0m\u001b[0;34m\u001b[0m\u001b[0m\n\u001b[1;32m      5\u001b[0m     \u001b[0mfi\u001b[0m \u001b[0;34m=\u001b[0m \u001b[0;34m[\u001b[0m\u001b[0mi\u001b[0m \u001b[0;32mfor\u001b[0m \u001b[0mi\u001b[0m\u001b[0;34m,\u001b[0m\u001b[0mj\u001b[0m \u001b[0;32min\u001b[0m \u001b[0msorted\u001b[0m\u001b[0;34m(\u001b[0m\u001b[0mzip\u001b[0m\u001b[0;34m(\u001b[0m\u001b[0mfi\u001b[0m\u001b[0;34m,\u001b[0m\u001b[0mf\u001b[0m\u001b[0;34m)\u001b[0m\u001b[0;34m,\u001b[0m \u001b[0mreverse\u001b[0m\u001b[0;34m=\u001b[0m\u001b[0;32mTrue\u001b[0m\u001b[0;34m)\u001b[0m\u001b[0;34m]\u001b[0m\u001b[0;34m[\u001b[0m\u001b[0;34m:\u001b[0m\u001b[0mn_features\u001b[0m\u001b[0;34m]\u001b[0m\u001b[0;34m\u001b[0m\u001b[0;34m\u001b[0m\u001b[0m\n",
      "\u001b[0;32m~/enter/lib/python3.7/site-packages/sklearn/utils/validation.py\u001b[0m in \u001b[0;36minner_f\u001b[0;34m(*args, **kwargs)\u001b[0m\n\u001b[1;32m     70\u001b[0m                           FutureWarning)\n\u001b[1;32m     71\u001b[0m         \u001b[0mkwargs\u001b[0m\u001b[0;34m.\u001b[0m\u001b[0mupdate\u001b[0m\u001b[0;34m(\u001b[0m\u001b[0;34m{\u001b[0m\u001b[0mk\u001b[0m\u001b[0;34m:\u001b[0m \u001b[0marg\u001b[0m \u001b[0;32mfor\u001b[0m \u001b[0mk\u001b[0m\u001b[0;34m,\u001b[0m \u001b[0marg\u001b[0m \u001b[0;32min\u001b[0m \u001b[0mzip\u001b[0m\u001b[0;34m(\u001b[0m\u001b[0msig\u001b[0m\u001b[0;34m.\u001b[0m\u001b[0mparameters\u001b[0m\u001b[0;34m,\u001b[0m \u001b[0margs\u001b[0m\u001b[0;34m)\u001b[0m\u001b[0;34m}\u001b[0m\u001b[0;34m)\u001b[0m\u001b[0;34m\u001b[0m\u001b[0;34m\u001b[0m\u001b[0m\n\u001b[0;32m---> 72\u001b[0;31m         \u001b[0;32mreturn\u001b[0m \u001b[0mf\u001b[0m\u001b[0;34m(\u001b[0m\u001b[0;34m**\u001b[0m\u001b[0mkwargs\u001b[0m\u001b[0;34m)\u001b[0m\u001b[0;34m\u001b[0m\u001b[0;34m\u001b[0m\u001b[0m\n\u001b[0m\u001b[1;32m     73\u001b[0m     \u001b[0;32mreturn\u001b[0m \u001b[0minner_f\u001b[0m\u001b[0;34m\u001b[0m\u001b[0;34m\u001b[0m\u001b[0m\n\u001b[1;32m     74\u001b[0m \u001b[0;34m\u001b[0m\u001b[0m\n",
      "\u001b[0;32m~/EndSem Notes/ML - Assignments/Assignments/Assignment 2/mutual_info.py\u001b[0m in \u001b[0;36mmutual_info_classif\u001b[0;34m(X, y, discrete_features, n_neighbors, copy, random_state)\u001b[0m\n\u001b[1;32m    180\u001b[0m     \u001b[0mcheck_classification_targets\u001b[0m\u001b[0;34m(\u001b[0m\u001b[0my\u001b[0m\u001b[0;34m)\u001b[0m\u001b[0;34m\u001b[0m\u001b[0;34m\u001b[0m\u001b[0m\n\u001b[1;32m    181\u001b[0m     return _estimate_mi(X, y, discrete_features, True, n_neighbors,\n\u001b[0;32m--> 182\u001b[0;31m                         copy, random_state)\n\u001b[0m",
      "\u001b[0;32m~/EndSem Notes/ML - Assignments/Assignments/Assignment 2/mutual_info.py\u001b[0m in \u001b[0;36m_estimate_mi\u001b[0;34m(X, y, discrete_features, discrete_target, n_neighbors, copy, random_state)\u001b[0m\n\u001b[1;32m    161\u001b[0m \u001b[0;34m\u001b[0m\u001b[0m\n\u001b[1;32m    162\u001b[0m     mi = [_compute_mi(x, y, discrete_feature, discrete_target, n_neighbors) for\n\u001b[0;32m--> 163\u001b[0;31m           x, discrete_feature in zip(_iterate_columns(X), discrete_mask)]\n\u001b[0m\u001b[1;32m    164\u001b[0m \u001b[0;34m\u001b[0m\u001b[0m\n\u001b[1;32m    165\u001b[0m     \u001b[0;32mreturn\u001b[0m \u001b[0mnp\u001b[0m\u001b[0;34m.\u001b[0m\u001b[0marray\u001b[0m\u001b[0;34m(\u001b[0m\u001b[0mmi\u001b[0m\u001b[0;34m)\u001b[0m\u001b[0;34m\u001b[0m\u001b[0;34m\u001b[0m\u001b[0m\n",
      "\u001b[0;32m~/EndSem Notes/ML - Assignments/Assignments/Assignment 2/mutual_info.py\u001b[0m in \u001b[0;36m<listcomp>\u001b[0;34m(.0)\u001b[0m\n\u001b[1;32m    161\u001b[0m \u001b[0;34m\u001b[0m\u001b[0m\n\u001b[1;32m    162\u001b[0m     mi = [_compute_mi(x, y, discrete_feature, discrete_target, n_neighbors) for\n\u001b[0;32m--> 163\u001b[0;31m           x, discrete_feature in zip(_iterate_columns(X), discrete_mask)]\n\u001b[0m\u001b[1;32m    164\u001b[0m \u001b[0;34m\u001b[0m\u001b[0m\n\u001b[1;32m    165\u001b[0m     \u001b[0;32mreturn\u001b[0m \u001b[0mnp\u001b[0m\u001b[0;34m.\u001b[0m\u001b[0marray\u001b[0m\u001b[0;34m(\u001b[0m\u001b[0mmi\u001b[0m\u001b[0;34m)\u001b[0m\u001b[0;34m\u001b[0m\u001b[0;34m\u001b[0m\u001b[0m\n",
      "\u001b[0;32m~/EndSem Notes/ML - Assignments/Assignments/Assignment 2/mutual_info.py\u001b[0m in \u001b[0;36m_compute_mi\u001b[0;34m(x, y, x_discrete, y_discrete, n_neighbors)\u001b[0m\n\u001b[1;32m     94\u001b[0m         \u001b[0;32mreturn\u001b[0m \u001b[0m_compute_mi_cd\u001b[0m\u001b[0;34m(\u001b[0m\u001b[0my\u001b[0m\u001b[0;34m,\u001b[0m \u001b[0mx\u001b[0m\u001b[0;34m,\u001b[0m \u001b[0mn_neighbors\u001b[0m\u001b[0;34m)\u001b[0m\u001b[0;34m\u001b[0m\u001b[0;34m\u001b[0m\u001b[0m\n\u001b[1;32m     95\u001b[0m     \u001b[0;32melif\u001b[0m \u001b[0;32mnot\u001b[0m \u001b[0mx_discrete\u001b[0m \u001b[0;32mand\u001b[0m \u001b[0my_discrete\u001b[0m\u001b[0;34m:\u001b[0m\u001b[0;34m\u001b[0m\u001b[0;34m\u001b[0m\u001b[0m\n\u001b[0;32m---> 96\u001b[0;31m         \u001b[0;32mreturn\u001b[0m \u001b[0m_compute_mi_cd\u001b[0m\u001b[0;34m(\u001b[0m\u001b[0mx\u001b[0m\u001b[0;34m,\u001b[0m \u001b[0my\u001b[0m\u001b[0;34m,\u001b[0m \u001b[0mn_neighbors\u001b[0m\u001b[0;34m)\u001b[0m\u001b[0;34m\u001b[0m\u001b[0;34m\u001b[0m\u001b[0m\n\u001b[0m\u001b[1;32m     97\u001b[0m     \u001b[0;32melse\u001b[0m\u001b[0;34m:\u001b[0m\u001b[0;34m\u001b[0m\u001b[0;34m\u001b[0m\u001b[0m\n\u001b[1;32m     98\u001b[0m         \u001b[0;32mreturn\u001b[0m \u001b[0m_compute_mi_cc\u001b[0m\u001b[0;34m(\u001b[0m\u001b[0mx\u001b[0m\u001b[0;34m,\u001b[0m \u001b[0my\u001b[0m\u001b[0;34m,\u001b[0m \u001b[0mn_neighbors\u001b[0m\u001b[0;34m)\u001b[0m\u001b[0;34m\u001b[0m\u001b[0;34m\u001b[0m\u001b[0m\n",
      "\u001b[0;32m~/EndSem Notes/ML - Assignments/Assignments/Assignment 2/mutual_info.py\u001b[0m in \u001b[0;36m_compute_mi_cd\u001b[0;34m(c, d, n_neighbors)\u001b[0m\n\u001b[1;32m     76\u001b[0m \u001b[0;34m\u001b[0m\u001b[0m\n\u001b[1;32m     77\u001b[0m     \u001b[0mnn\u001b[0m\u001b[0;34m.\u001b[0m\u001b[0mset_params\u001b[0m\u001b[0;34m(\u001b[0m\u001b[0malgorithm\u001b[0m\u001b[0;34m=\u001b[0m\u001b[0;34m'kd_tree'\u001b[0m\u001b[0;34m)\u001b[0m\u001b[0;34m\u001b[0m\u001b[0;34m\u001b[0m\u001b[0m\n\u001b[0;32m---> 78\u001b[0;31m     \u001b[0mnn\u001b[0m\u001b[0;34m.\u001b[0m\u001b[0mfit\u001b[0m\u001b[0;34m(\u001b[0m\u001b[0mc\u001b[0m\u001b[0;34m)\u001b[0m\u001b[0;34m\u001b[0m\u001b[0;34m\u001b[0m\u001b[0m\n\u001b[0m\u001b[1;32m     79\u001b[0m     \u001b[0mind\u001b[0m \u001b[0;34m=\u001b[0m \u001b[0mnn\u001b[0m\u001b[0;34m.\u001b[0m\u001b[0mradius_neighbors\u001b[0m\u001b[0;34m(\u001b[0m\u001b[0mradius\u001b[0m\u001b[0;34m=\u001b[0m\u001b[0mradius\u001b[0m\u001b[0;34m,\u001b[0m \u001b[0mreturn_distance\u001b[0m\u001b[0;34m=\u001b[0m\u001b[0;32mFalse\u001b[0m\u001b[0;34m)\u001b[0m\u001b[0;34m\u001b[0m\u001b[0;34m\u001b[0m\u001b[0m\n\u001b[1;32m     80\u001b[0m     \u001b[0mm_all\u001b[0m \u001b[0;34m=\u001b[0m \u001b[0mnp\u001b[0m\u001b[0;34m.\u001b[0m\u001b[0marray\u001b[0m\u001b[0;34m(\u001b[0m\u001b[0;34m[\u001b[0m\u001b[0mi\u001b[0m\u001b[0;34m.\u001b[0m\u001b[0msize\u001b[0m \u001b[0;32mfor\u001b[0m \u001b[0mi\u001b[0m \u001b[0;32min\u001b[0m \u001b[0mind\u001b[0m\u001b[0;34m]\u001b[0m\u001b[0;34m)\u001b[0m\u001b[0;34m\u001b[0m\u001b[0;34m\u001b[0m\u001b[0m\n",
      "\u001b[0;32m~/enter/lib/python3.7/site-packages/sklearn/neighbors/_base.py\u001b[0m in \u001b[0;36mfit\u001b[0;34m(self, X, y)\u001b[0m\n\u001b[1;32m   1171\u001b[0m             \u001b[0;32mor\u001b[0m \u001b[0;34m[\u001b[0m\u001b[0mn_samples\u001b[0m\u001b[0;34m,\u001b[0m \u001b[0mn_samples\u001b[0m\u001b[0;34m]\u001b[0m \u001b[0;32mif\u001b[0m \u001b[0mmetric\u001b[0m\u001b[0;34m=\u001b[0m\u001b[0;34m'precomputed'\u001b[0m\u001b[0;34m.\u001b[0m\u001b[0;34m\u001b[0m\u001b[0;34m\u001b[0m\u001b[0m\n\u001b[1;32m   1172\u001b[0m         \"\"\"\n\u001b[0;32m-> 1173\u001b[0;31m         \u001b[0;32mreturn\u001b[0m \u001b[0mself\u001b[0m\u001b[0;34m.\u001b[0m\u001b[0m_fit\u001b[0m\u001b[0;34m(\u001b[0m\u001b[0mX\u001b[0m\u001b[0;34m)\u001b[0m\u001b[0;34m\u001b[0m\u001b[0;34m\u001b[0m\u001b[0m\n\u001b[0m",
      "\u001b[0;32m~/enter/lib/python3.7/site-packages/sklearn/neighbors/_base.py\u001b[0m in \u001b[0;36m_fit\u001b[0;34m(self, X)\u001b[0m\n\u001b[1;32m    470\u001b[0m                 )\n\u001b[1;32m    471\u001b[0m             \u001b[0;32melse\u001b[0m\u001b[0;34m:\u001b[0m\u001b[0;34m\u001b[0m\u001b[0;34m\u001b[0m\u001b[0m\n\u001b[0;32m--> 472\u001b[0;31m                 \u001b[0;32mif\u001b[0m \u001b[0;32mnot\u001b[0m \u001b[0misinstance\u001b[0m\u001b[0;34m(\u001b[0m\u001b[0mself\u001b[0m\u001b[0;34m.\u001b[0m\u001b[0mn_neighbors\u001b[0m\u001b[0;34m,\u001b[0m \u001b[0mnumbers\u001b[0m\u001b[0;34m.\u001b[0m\u001b[0mIntegral\u001b[0m\u001b[0;34m)\u001b[0m\u001b[0;34m:\u001b[0m\u001b[0;34m\u001b[0m\u001b[0;34m\u001b[0m\u001b[0m\n\u001b[0m\u001b[1;32m    473\u001b[0m                     raise TypeError(\n\u001b[1;32m    474\u001b[0m                         \u001b[0;34m\"n_neighbors does not take %s value, \"\u001b[0m\u001b[0;34m\u001b[0m\u001b[0;34m\u001b[0m\u001b[0m\n",
      "\u001b[0;32m~/enter/lib/python3.7/abc.py\u001b[0m in \u001b[0;36m__instancecheck__\u001b[0;34m(cls, instance)\u001b[0m\n\u001b[1;32m    137\u001b[0m         \u001b[0;32mdef\u001b[0m \u001b[0m__instancecheck__\u001b[0m\u001b[0;34m(\u001b[0m\u001b[0mcls\u001b[0m\u001b[0;34m,\u001b[0m \u001b[0minstance\u001b[0m\u001b[0;34m)\u001b[0m\u001b[0;34m:\u001b[0m\u001b[0;34m\u001b[0m\u001b[0;34m\u001b[0m\u001b[0m\n\u001b[1;32m    138\u001b[0m             \u001b[0;34m\"\"\"Override for isinstance(instance, cls).\"\"\"\u001b[0m\u001b[0;34m\u001b[0m\u001b[0;34m\u001b[0m\u001b[0m\n\u001b[0;32m--> 139\u001b[0;31m             \u001b[0;32mreturn\u001b[0m \u001b[0m_abc_instancecheck\u001b[0m\u001b[0;34m(\u001b[0m\u001b[0mcls\u001b[0m\u001b[0;34m,\u001b[0m \u001b[0minstance\u001b[0m\u001b[0;34m)\u001b[0m\u001b[0;34m\u001b[0m\u001b[0;34m\u001b[0m\u001b[0m\n\u001b[0m\u001b[1;32m    140\u001b[0m \u001b[0;34m\u001b[0m\u001b[0m\n\u001b[1;32m    141\u001b[0m         \u001b[0;32mdef\u001b[0m \u001b[0m__subclasscheck__\u001b[0m\u001b[0;34m(\u001b[0m\u001b[0mcls\u001b[0m\u001b[0;34m,\u001b[0m \u001b[0msubclass\u001b[0m\u001b[0;34m)\u001b[0m\u001b[0;34m:\u001b[0m\u001b[0;34m\u001b[0m\u001b[0;34m\u001b[0m\u001b[0m\n",
      "\u001b[0;32m~/enter/lib/python3.7/abc.py\u001b[0m in \u001b[0;36m__subclasscheck__\u001b[0;34m(cls, subclass)\u001b[0m\n\u001b[1;32m    139\u001b[0m             \u001b[0;32mreturn\u001b[0m \u001b[0m_abc_instancecheck\u001b[0m\u001b[0;34m(\u001b[0m\u001b[0mcls\u001b[0m\u001b[0;34m,\u001b[0m \u001b[0minstance\u001b[0m\u001b[0;34m)\u001b[0m\u001b[0;34m\u001b[0m\u001b[0;34m\u001b[0m\u001b[0m\n\u001b[1;32m    140\u001b[0m \u001b[0;34m\u001b[0m\u001b[0m\n\u001b[0;32m--> 141\u001b[0;31m         \u001b[0;32mdef\u001b[0m \u001b[0m__subclasscheck__\u001b[0m\u001b[0;34m(\u001b[0m\u001b[0mcls\u001b[0m\u001b[0;34m,\u001b[0m \u001b[0msubclass\u001b[0m\u001b[0;34m)\u001b[0m\u001b[0;34m:\u001b[0m\u001b[0;34m\u001b[0m\u001b[0;34m\u001b[0m\u001b[0m\n\u001b[0m\u001b[1;32m    142\u001b[0m             \u001b[0;34m\"\"\"Override for issubclass(subclass, cls).\"\"\"\u001b[0m\u001b[0;34m\u001b[0m\u001b[0;34m\u001b[0m\u001b[0m\n\u001b[1;32m    143\u001b[0m             \u001b[0;32mreturn\u001b[0m \u001b[0m_abc_subclasscheck\u001b[0m\u001b[0;34m(\u001b[0m\u001b[0mcls\u001b[0m\u001b[0;34m,\u001b[0m \u001b[0msubclass\u001b[0m\u001b[0;34m)\u001b[0m\u001b[0;34m\u001b[0m\u001b[0;34m\u001b[0m\u001b[0m\n",
      "\u001b[0;31mKeyboardInterrupt\u001b[0m: "
     ]
    }
   ],
   "source": [
    "X1_train, y1_train, fs1, fi1 = topk_features_mi(X1_train, y1_train, n1_select)\n",
    "X1_test = X1_test[fs1]\n",
    "\n",
    "X2_train, y2_train, fs2, fi2 = topk_features_mi(X2_train, y2_train, n2_select)\n",
    "X2_test = X2_test[fs2]\n",
    "\n",
    "X3_train, y3_train, fs3, fi3 = topk_features_mi(X3_train, y3_train, n3_select)\n",
    "X3_test = X3_test[fs3]"
   ]
  },
  {
   "cell_type": "code",
   "execution_count": null,
   "metadata": {},
   "outputs": [],
   "source": [
    "knn_results1 = results_kNN(X1_train, y1_train, X1_test, y1_test)\n",
    "svm_results1 = results_svm(X1_train, y1_train, X1_test, y1_test)\n",
    "\n",
    "print(\"kNN Results for DBCL data:\")\n",
    "print(\"Accuracy: {}\".format(knn_results1[0]))\n",
    "print(\"Weighted F1-Score: {}\".format(knn_results1[1]))\n",
    "print(\"Confusion Matrix:\")\n",
    "print(knn_results1[2])\n",
    "print(\"\\n\")\n",
    "\n",
    "print(\"SVM Results for DBCL data:\")\n",
    "print(\"Accuracy: {}\".format(svm_results1[0]))\n",
    "print(\"Weighted F1-Score: {}\".format(svm_results1[1]))\n",
    "print(\"Confusion Matrix:\")\n",
    "print(svm_results1[2])\n",
    "print(\"\\n\")"
   ]
  },
  {
   "cell_type": "code",
   "execution_count": null,
   "metadata": {
    "scrolled": true
   },
   "outputs": [],
   "source": [
    "knn_results2 = results_kNN(X2_train, y2_train, X2_test, y2_test)\n",
    "svm_results2 = results_svm(X2_train, y2_train, X2_test, y2_test)\n",
    "\n",
    "print(\"kNN Results for Leukemia data:\")\n",
    "print(\"Accuracy: {}\".format(knn_results2[0]))\n",
    "print(\"Weighted F1-Score: {}\".format(knn_results2[1]))\n",
    "print(\"Confusion Matrix:\")\n",
    "print(knn_results2[2])\n",
    "print(\"\\n\")\n",
    "\n",
    "print(\"SVM Results for Leukemia data:\")\n",
    "print(\"Accuracy: {}\".format(svm_results2[0]))\n",
    "print(\"Weighted F1-Score: {}\".format(svm_results2[1]))\n",
    "print(\"Confusion Matrix:\")\n",
    "print(svm_results2[2])\n",
    "print(\"\\n\")"
   ]
  },
  {
   "cell_type": "code",
   "execution_count": null,
   "metadata": {},
   "outputs": [],
   "source": [
    "knn_results3 = results_kNN(X3_train, y3_train, X3_test, y3_test)\n",
    "svm_results3 = results_svm(X3_train, y3_train, X3_test, y3_test)\n",
    "\n",
    "print(\"kNN Results for Lung data:\")\n",
    "print(\"Accuracy: {}\".format(knn_results3[0]))\n",
    "print(\"Weighted F1-Score: {}\".format(knn_results3[1]))\n",
    "print(\"Confusion Matrix:\")\n",
    "print(knn_results3[2])\n",
    "print(\"\\n\")\n",
    "\n",
    "print(\"SVM Results for Lung data:\")\n",
    "print(\"Accuracy: {}\".format(svm_results3[0]))\n",
    "print(\"Weighted F1-Score: {}\".format(svm_results3[1]))\n",
    "print(\"Confusion Matrix:\")\n",
    "print(svm_results3[2])\n",
    "print(\"\\n\")"
   ]
  },
  {
   "cell_type": "markdown",
   "metadata": {},
   "source": [
    "## Feature Selection Using f_classif"
   ]
  },
  {
   "cell_type": "code",
   "execution_count": null,
   "metadata": {},
   "outputs": [],
   "source": [
    "X1_train, y1_train, fs1, fi1 = topk_features_f_calssif(X1_train, y1_train, n1_select)\n",
    "X1_test = X1_test[fs1]\n",
    "\n",
    "X2_train, y2_train, fs2, fi2 = topk_features_f_calssif(X2_train, y2_train, n2_select)\n",
    "X2_test = X2_test[fs2]\n",
    "\n",
    "X3_train, y3_train, fs3, fi3 = topk_features_f_calssif(X3_train, y3_train, n3_select)\n",
    "X3_test = X3_test[fs3]"
   ]
  },
  {
   "cell_type": "code",
   "execution_count": null,
   "metadata": {},
   "outputs": [],
   "source": [
    "knn_results1 = results_kNN(X1_train, y1_train, X1_test, y1_test)\n",
    "svm_results1 = results_svm(X1_train, y1_train, X1_test, y1_test)\n",
    "\n",
    "print(\"kNN Results for DBCL data:\")\n",
    "print(\"Accuracy: {}\".format(knn_results1[0]))\n",
    "print(\"Weighted F1-Score: {}\".format(knn_results1[1]))\n",
    "print(\"Confusion Matrix:\")\n",
    "print(knn_results1[2])\n",
    "print(\"\\n\")\n",
    "\n",
    "print(\"SVM Results for DBCL data:\")\n",
    "print(\"Accuracy: {}\".format(svm_results1[0]))\n",
    "print(\"Weighted F1-Score: {}\".format(svm_results1[1]))\n",
    "print(\"Confusion Matrix:\")\n",
    "print(svm_results1[2])\n",
    "print(\"\\n\")"
   ]
  },
  {
   "cell_type": "code",
   "execution_count": null,
   "metadata": {},
   "outputs": [],
   "source": [
    "knn_results2 = results_kNN(X2_train, y2_train, X2_test, y2_test)\n",
    "svm_results2 = results_svm(X2_train, y2_train, X2_test, y2_test)\n",
    "\n",
    "print(\"kNN Results for Leukemia data:\")\n",
    "print(\"Accuracy: {}\".format(knn_results2[0]))\n",
    "print(\"Weighted F1-Score: {}\".format(knn_results2[1]))\n",
    "print(\"Confusion Matrix:\")\n",
    "print(knn_results2[2])\n",
    "print(\"\\n\")\n",
    "\n",
    "print(\"SVM Results for Leukemia data:\")\n",
    "print(\"Accuracy: {}\".format(svm_results2[0]))\n",
    "print(\"Weighted F1-Score: {}\".format(svm_results2[1]))\n",
    "print(\"Confusion Matrix:\")\n",
    "print(svm_results2[2])\n",
    "print(\"\\n\")"
   ]
  },
  {
   "cell_type": "code",
   "execution_count": null,
   "metadata": {
    "scrolled": true
   },
   "outputs": [],
   "source": [
    "knn_results3 = results_kNN(X3_train, y3_train, X3_test, y3_test)\n",
    "svm_results3 = results_svm(X3_train, y3_train, X3_test, y3_test)\n",
    "\n",
    "print(\"kNN Results for Lung data:\")\n",
    "print(\"Accuracy: {}\".format(knn_results3[0]))\n",
    "print(\"Weighted F1-Score: {}\".format(knn_results3[1]))\n",
    "print(\"Confusion Matrix:\")\n",
    "print(knn_results3[2])\n",
    "print(\"\\n\")\n",
    "\n",
    "print(\"SVM Results for Lung data:\")\n",
    "print(\"Accuracy: {}\".format(svm_results3[0]))\n",
    "print(\"Weighted F1-Score: {}\".format(svm_results3[1]))\n",
    "print(\"Confusion Matrix:\")\n",
    "print(svm_results3[2])\n",
    "print(\"\\n\")"
   ]
  },
  {
   "cell_type": "markdown",
   "metadata": {},
   "source": [
    "## Feature Selection Using t-test"
   ]
  },
  {
   "cell_type": "code",
   "execution_count": null,
   "metadata": {},
   "outputs": [],
   "source": [
    "X1_train, y1_train, fs1, fi1 = topk_features_t_test(X1_train, y1_train, n1_select)\n",
    "X1_test = X1_test[fs1]\n",
    "\n",
    "X2_train, y2_train, fs2, fi2 = topk_features_t_test(X2_train, y2_train, n2_select)\n",
    "X2_test = X2_test[fs2]\n",
    "\n",
    "X3_train, y3_train, fs3, fi3 = topk_features_t_test(X3_train, y3_train, n3_select)\n",
    "X3_test = X3_test[fs3]"
   ]
  },
  {
   "cell_type": "code",
   "execution_count": null,
   "metadata": {},
   "outputs": [],
   "source": []
  },
  {
   "cell_type": "code",
   "execution_count": null,
   "metadata": {},
   "outputs": [],
   "source": [
    "\"c\" == \"c\""
   ]
  },
  {
   "cell_type": "code",
   "execution_count": null,
   "metadata": {},
   "outputs": [],
   "source": []
  },
  {
   "cell_type": "code",
   "execution_count": null,
   "metadata": {},
   "outputs": [],
   "source": []
  },
  {
   "cell_type": "code",
   "execution_count": null,
   "metadata": {},
   "outputs": [],
   "source": []
  },
  {
   "cell_type": "code",
   "execution_count": null,
   "metadata": {},
   "outputs": [],
   "source": []
  },
  {
   "cell_type": "code",
   "execution_count": null,
   "metadata": {},
   "outputs": [],
   "source": []
  }
 ],
 "metadata": {
  "kernelspec": {
   "display_name": "Python 3",
   "language": "python",
   "name": "python3"
  },
  "language_info": {
   "codemirror_mode": {
    "name": "ipython",
    "version": 3
   },
   "file_extension": ".py",
   "mimetype": "text/x-python",
   "name": "python",
   "nbconvert_exporter": "python",
   "pygments_lexer": "ipython3",
   "version": "3.7.4"
  }
 },
 "nbformat": 4,
 "nbformat_minor": 2
}
