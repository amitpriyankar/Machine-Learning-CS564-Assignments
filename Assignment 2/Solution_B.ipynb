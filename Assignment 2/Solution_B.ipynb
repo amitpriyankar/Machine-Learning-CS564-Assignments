{
 "cells": [
  {
   "cell_type": "code",
   "execution_count": 1,
   "metadata": {},
   "outputs": [],
   "source": [
    "%matplotlib inline\n",
    "import numpy as np\n",
    "import pandas as pd\n",
    "import matplotlib.pyplot as plt\n",
    "from sklearn.neighbors import KNeighborsClassifier\n",
    "import filters, mutual_info, ttest\n",
    "from sklearn.model_selection import train_test_split\n",
    "from math import *\n",
    "from sklearn.svm import SVC\n",
    "from sklearn.metrics import accuracy_score, f1_score, confusion_matrix"
   ]
  },
  {
   "cell_type": "code",
   "execution_count": 2,
   "metadata": {},
   "outputs": [
    {
     "name": "stdout",
     "output_type": "stream",
     "text": [
      "\n"
     ]
    }
   ],
   "source": [
    "data1 = pd.read_csv(\"Data/DLBCL.tsv\",delimiter=\"\\t\", low_memory=False)\n",
    "data1.drop(data1.index[[0,1]], inplace=True)\n",
    "data1.dropna(inplace=True)\n",
    "\n",
    "data2 = pd.read_csv(\"Data/leukemia.tsv\",delimiter=\"\\t\", low_memory=False)\n",
    "data2.drop(data2.index[[0,1]], inplace=True)\n",
    "data2.dropna(inplace=True)\n",
    "\n",
    "data3 = pd.read_csv(\"Data/lung.tsv\",delimiter=\"\\t\", low_memory=False)\n",
    "data3.drop(data3.index[[0,1]], inplace=True)\n",
    "data3.dropna(inplace=True)\n",
    "print(\"\")"
   ]
  },
  {
   "cell_type": "code",
   "execution_count": 3,
   "metadata": {},
   "outputs": [],
   "source": [
    "X1, y1 = data1.iloc[:,:-1], data1.iloc[:,-1]\n",
    "X2, y2 = data2.iloc[:,1:], data2.iloc[:,0]\n",
    "X3, y3 = data3.iloc[:,1:], data3.iloc[:,0]"
   ]
  },
  {
   "cell_type": "code",
   "execution_count": 4,
   "metadata": {},
   "outputs": [],
   "source": [
    "X1_train, X1_test, y1_train, y1_test = train_test_split(X1, y1, test_size=0.25)\n",
    "X2_train, X2_test, y2_train, y2_test = train_test_split(X2, y2, test_size=0.25)\n",
    "X3_train, X3_test, y3_train, y3_test = train_test_split(X3, y3, test_size=0.25)"
   ]
  },
  {
   "cell_type": "code",
   "execution_count": 5,
   "metadata": {},
   "outputs": [
    {
     "name": "stdout",
     "output_type": "stream",
     "text": [
      "No. of features in DBCL data: 7070\n",
      "No. of features in Leukemia data: 5147\n",
      "No. of features in Lung data: 12600\n"
     ]
    }
   ],
   "source": [
    "n1_features = len(X1.columns)\n",
    "n2_features = len(X2.columns)\n",
    "n3_features = len(X3.columns)\n",
    "\n",
    "print(\"No. of features in DBCL data: {}\".format(n1_features))\n",
    "print(\"No. of features in Leukemia data: {}\".format(n2_features))\n",
    "print(\"No. of features in Lung data: {}\".format(n3_features))"
   ]
  },
  {
   "cell_type": "code",
   "execution_count": 6,
   "metadata": {},
   "outputs": [
    {
     "name": "stdout",
     "output_type": "stream",
     "text": [
      "No. of features to be selected from DBCL data (N/3): 471\n",
      "No. of features to be selected from Leukemia data (N/3): 343\n",
      "No. of features to be selected from Lung data (N/3): 840\n"
     ]
    }
   ],
   "source": [
    "n1_select = floor((0.2*n1_features)/3)\n",
    "n2_select = floor((0.2*n2_features)/3)\n",
    "n3_select = floor((0.2*n3_features)/3)\n",
    "\n",
    "print(\"No. of features to be selected from DBCL data (N/3): {}\".format(n1_select))\n",
    "print(\"No. of features to be selected from Leukemia data (N/3): {}\".format(n2_select))\n",
    "print(\"No. of features to be selected from Lung data (N/3): {}\".format(n3_select))"
   ]
  },
  {
   "cell_type": "code",
   "execution_count": 7,
   "metadata": {},
   "outputs": [],
   "source": [
    "def topk_features_mi(X, y, n_features):\n",
    "    fi = mutual_info.mutual_info_classif(X, y)\n",
    "    f = X.columns\n",
    "    fs = [j for i,j in sorted(zip(fi,f), reverse=True)][:n_features]\n",
    "    fi = [i for i,j in sorted(zip(fi,f), reverse=True)][:n_features]\n",
    "    Xs = X[fs]\n",
    "    \n",
    "    return Xs, y, fs, fi\n",
    "\n",
    "def topk_features_f_calssif(X, y, n_features):\n",
    "    fi = filters.f_classif(X, y)\n",
    "    fi = fi[0]\n",
    "    f = X.columns\n",
    "    fs = [j for i,j in sorted(zip(fi,f), reverse=True)][:n_features]\n",
    "    fi = [i for i,j in sorted(zip(fi,f), reverse=True)][:n_features]\n",
    "    Xs = X[fs]\n",
    "    \n",
    "    return Xs, y, fs, fi \n",
    "\n",
    "def topk_features_t_test(X, y, n_features):\n",
    "    f,fi = ttest.get_features(X, y)\n",
    "#     fi = fi[0]\n",
    "#     print(f)\n",
    "#     f = X.columns\n",
    "    fs = [j for i,j in sorted(zip(fi,f), reverse=True)][:n_features]\n",
    "    fi = [i for i,j in sorted(zip(fi,f), reverse=True)][:n_features]\n",
    "    Xs = X[fs]\n",
    "    \n",
    "    return Xs, y, fs, fi \n",
    "\n",
    "def results_kNN(X_train, y_train, X_test, y_test):\n",
    "    Clf = KNeighborsClassifier(n_neighbors=3)\n",
    "    Clf.fit(X_train, y_train)\n",
    "    \n",
    "    y_pred = Clf.predict(X_test)\n",
    "    acc = accuracy_score(y_test.values, y_pred)\n",
    "    fscore = f1_score(y_test.values, y_pred, average='weighted')\n",
    "    cnf_matrix = confusion_matrix(y_test, y_pred)\n",
    "    \n",
    "    return acc, fscore, cnf_matrix\n",
    "\n",
    "def results_svm(X_train, y_train, X_test, y_test):\n",
    "    Clf = SVC(kernel='rbf')\n",
    "    Clf.fit(X_train, y_train)\n",
    "    \n",
    "    y_pred = Clf.predict(X_test)\n",
    "    acc = accuracy_score(y_test, y_pred)\n",
    "    fscore = f1_score(y_test, y_pred, average='weighted')\n",
    "    cnf_matrix = confusion_matrix(y_test, y_pred)\n",
    "    \n",
    "    return acc, fscore, cnf_matrix"
   ]
  },
  {
   "cell_type": "markdown",
   "metadata": {},
   "source": [
    "## DBCL Dataset"
   ]
  },
  {
   "cell_type": "code",
   "execution_count": 8,
   "metadata": {},
   "outputs": [
    {
     "name": "stderr",
     "output_type": "stream",
     "text": [
      "/home/aquarius31/EndSem Notes/ML - Assignments/Assignments/Assignment 2/ttest.py:39: SettingWithCopyWarning: \n",
      "A value is trying to be set on a copy of a slice from a DataFrame.\n",
      "Try using .loc[row_indexer,col_indexer] = value instead\n",
      "\n",
      "See the caveats in the documentation: http://pandas.pydata.org/pandas-docs/stable/user_guide/indexing.html#returning-a-view-versus-a-copy\n",
      "  df[\"class\"] = pd.DataFrame(y)\n"
     ]
    },
    {
     "name": "stdout",
     "output_type": "stream",
     "text": [
      "kNN Results for DBCL data:\n",
      "Accuracy: 0.8\n",
      "Weighted F1-Score: 0.8083333333333332\n",
      "Confusion Matrix:\n",
      "[[10  4]\n",
      " [ 0  6]]\n",
      "\n",
      "\n",
      "SVM Results for DBCL data:\n",
      "Accuracy: 1.0\n",
      "Weighted F1-Score: 1.0\n",
      "Confusion Matrix:\n",
      "[[14  0]\n",
      " [ 0  6]]\n",
      "\n",
      "\n"
     ]
    }
   ],
   "source": [
    "X1_train_mi, y1_train_mi, fs1_mi, fi1_mi = topk_features_mi(X1_train, y1_train, n1_select)\n",
    "X1_train_f, y1_train_f, fs1_f, fi1_f = topk_features_f_calssif(X1_train, y1_train, n1_select)\n",
    "X1_train_t, y1_train_f, fs1_t, fi1_t = topk_features_t_test(X1_train, y1_train, n1_select)\n",
    "\n",
    "fs = list(set(fs1_mi).union(set(fs1_f).union(set(fs1_t))))\n",
    "\n",
    "X1_train_fs = X1_train[fs]\n",
    "X1_test_fs = X1_test[fs]\n",
    "\n",
    "knn_results1 = results_kNN(X1_train_fs, y1_train, X1_test_fs, y1_test)\n",
    "svm_results1 = results_svm(X1_train_fs, y1_train, X1_test_fs, y1_test)\n",
    "\n",
    "print(\"kNN Results for DBCL data:\")\n",
    "print(\"Accuracy: {}\".format(knn_results1[0]))\n",
    "print(\"Weighted F1-Score: {}\".format(knn_results1[1]))\n",
    "print(\"Confusion Matrix:\")\n",
    "print(knn_results1[2])\n",
    "print(\"\\n\")\n",
    "\n",
    "print(\"SVM Results for DBCL data:\")\n",
    "print(\"Accuracy: {}\".format(svm_results1[0]))\n",
    "print(\"Weighted F1-Score: {}\".format(svm_results1[1]))\n",
    "print(\"Confusion Matrix:\")\n",
    "print(svm_results1[2])\n",
    "print(\"\\n\")"
   ]
  },
  {
   "cell_type": "markdown",
   "metadata": {},
   "source": [
    "## Leukemia Dataset"
   ]
  },
  {
   "cell_type": "code",
   "execution_count": 9,
   "metadata": {},
   "outputs": [
    {
     "name": "stderr",
     "output_type": "stream",
     "text": [
      "/home/aquarius31/EndSem Notes/ML - Assignments/Assignments/Assignment 2/ttest.py:39: SettingWithCopyWarning: \n",
      "A value is trying to be set on a copy of a slice from a DataFrame.\n",
      "Try using .loc[row_indexer,col_indexer] = value instead\n",
      "\n",
      "See the caveats in the documentation: http://pandas.pydata.org/pandas-docs/stable/user_guide/indexing.html#returning-a-view-versus-a-copy\n",
      "  df[\"class\"] = pd.DataFrame(y)\n"
     ]
    },
    {
     "name": "stdout",
     "output_type": "stream",
     "text": [
      "kNN Results for Leukemia data:\n",
      "Accuracy: 0.8888888888888888\n",
      "Weighted F1-Score: 0.886002886002886\n",
      "Confusion Matrix:\n",
      "[[10  0]\n",
      " [ 2  6]]\n",
      "\n",
      "\n",
      "SVM Results for Leukemia data:\n",
      "Accuracy: 0.8888888888888888\n",
      "Weighted F1-Score: 0.886002886002886\n",
      "Confusion Matrix:\n",
      "[[10  0]\n",
      " [ 2  6]]\n",
      "\n",
      "\n"
     ]
    }
   ],
   "source": [
    "X2_train_mi, y2_train_mi, fs2_mi, fi2_mi = topk_features_mi(X2_train, y2_train, n2_select)\n",
    "X2_train_f, y2_train_f, fs2_f, fi2_f = topk_features_f_calssif(X2_train, y2_train, n2_select)\n",
    "X2_train_t, y2_train_f, fs2_t, fi2_t = topk_features_t_test(X2_train, y2_train, n2_select)\n",
    "\n",
    "fs = list(set(fs2_mi).union(set(fs2_f).union(set(fs2_t))))\n",
    "\n",
    "X2_train_fs = X2_train[fs]\n",
    "X2_test_fs = X2_test[fs]\n",
    "\n",
    "knn_results2 = results_kNN(X2_train_fs, y2_train, X2_test_fs, y2_test)\n",
    "svm_results2 = results_svm(X2_train_fs, y2_train, X2_test_fs, y2_test)\n",
    "\n",
    "print(\"kNN Results for Leukemia data:\")\n",
    "print(\"Accuracy: {}\".format(knn_results2[0]))\n",
    "print(\"Weighted F1-Score: {}\".format(knn_results2[1]))\n",
    "print(\"Confusion Matrix:\")\n",
    "print(knn_results2[2])\n",
    "print(\"\\n\")\n",
    "\n",
    "print(\"SVM Results for Leukemia data:\")\n",
    "print(\"Accuracy: {}\".format(svm_results2[0]))\n",
    "print(\"Weighted F1-Score: {}\".format(svm_results2[1]))\n",
    "print(\"Confusion Matrix:\")\n",
    "print(svm_results2[2])\n",
    "print(\"\\n\")"
   ]
  },
  {
   "cell_type": "markdown",
   "metadata": {},
   "source": [
    "## Lung Dataset"
   ]
  },
  {
   "cell_type": "code",
   "execution_count": 10,
   "metadata": {},
   "outputs": [
    {
     "name": "stderr",
     "output_type": "stream",
     "text": [
      "/home/aquarius31/EndSem Notes/ML - Assignments/Assignments/Assignment 2/ttest.py:39: SettingWithCopyWarning: \n",
      "A value is trying to be set on a copy of a slice from a DataFrame.\n",
      "Try using .loc[row_indexer,col_indexer] = value instead\n",
      "\n",
      "See the caveats in the documentation: http://pandas.pydata.org/pandas-docs/stable/user_guide/indexing.html#returning-a-view-versus-a-copy\n",
      "  df[\"class\"] = pd.DataFrame(y)\n"
     ]
    },
    {
     "name": "stdout",
     "output_type": "stream",
     "text": [
      "kNN Results for Lung data:\n",
      "Accuracy: 0.9411764705882353\n",
      "Weighted F1-Score: 0.9328647745247262\n",
      "Confusion Matrix:\n",
      "[[35  0  1  0  0]\n",
      " [ 0  3  0  0  0]\n",
      " [ 0  0  4  0  0]\n",
      " [ 2  0  0  1  0]\n",
      " [ 0  0  0  0  5]]\n",
      "\n",
      "\n",
      "SVM Results for Lung data:\n",
      "Accuracy: 0.8823529411764706\n",
      "Weighted F1-Score: 0.852224515537209\n",
      "Confusion Matrix:\n",
      "[[35  0  1  0  0]\n",
      " [ 0  3  0  0  0]\n",
      " [ 0  0  4  0  0]\n",
      " [ 3  0  0  0  0]\n",
      " [ 2  0  0  0  3]]\n",
      "\n",
      "\n"
     ]
    }
   ],
   "source": [
    "X3_train_mi, y3_train_mi, fs3_mi, fi3_mi = topk_features_mi(X3_train, y3_train, n3_select)\n",
    "X3_train_f, y3_train_f, fs3_f, fi3_f = topk_features_f_calssif(X3_train, y3_train, n3_select)\n",
    "X3_train_t, y3_train_f, fs3_t, fi3_t = topk_features_t_test(X3_train, y3_train, n3_select)\n",
    "\n",
    "fs = list(set(fs3_mi).union(set(fs3_f).union(set(fs3_t))))\n",
    "\n",
    "X3_train_fs = X3_train[fs]\n",
    "X3_test_fs = X3_test[fs]\n",
    "\n",
    "knn_results3 = results_kNN(X3_train_fs, y3_train, X3_test_fs, y3_test)\n",
    "svm_results3 = results_svm(X3_train_fs, y3_train, X3_test_fs, y3_test)\n",
    "\n",
    "print(\"kNN Results for Lung data:\")\n",
    "print(\"Accuracy: {}\".format(knn_results3[0]))\n",
    "print(\"Weighted F1-Score: {}\".format(knn_results3[1]))\n",
    "print(\"Confusion Matrix:\")\n",
    "print(knn_results3[2])\n",
    "print(\"\\n\")\n",
    "\n",
    "print(\"SVM Results for Lung data:\")\n",
    "print(\"Accuracy: {}\".format(svm_results3[0]))\n",
    "print(\"Weighted F1-Score: {}\".format(svm_results3[1]))\n",
    "print(\"Confusion Matrix:\")\n",
    "print(svm_results3[2])\n",
    "print(\"\\n\")"
   ]
  },
  {
   "cell_type": "code",
   "execution_count": null,
   "metadata": {},
   "outputs": [],
   "source": []
  },
  {
   "cell_type": "code",
   "execution_count": null,
   "metadata": {},
   "outputs": [],
   "source": []
  }
 ],
 "metadata": {
  "kernelspec": {
   "display_name": "Python 3",
   "language": "python",
   "name": "python3"
  },
  "language_info": {
   "codemirror_mode": {
    "name": "ipython",
    "version": 3
   },
   "file_extension": ".py",
   "mimetype": "text/x-python",
   "name": "python",
   "nbconvert_exporter": "python",
   "pygments_lexer": "ipython3",
   "version": "3.7.4"
  }
 },
 "nbformat": 4,
 "nbformat_minor": 2
}
